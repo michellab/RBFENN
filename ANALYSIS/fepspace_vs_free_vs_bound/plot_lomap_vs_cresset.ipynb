{
 "cells": [
  {
   "cell_type": "code",
   "execution_count": 56,
   "metadata": {},
   "outputs": [],
   "source": [
    "import BioSimSpace as BSS\n",
    "import csv\n",
    "import matplotlib.pyplot as plt\n",
    "import seaborn as sns\n",
    "\n",
    "import numpy as np\n",
    "from scipy import stats"
   ]
  },
  {
   "cell_type": "code",
   "execution_count": 2,
   "metadata": {},
   "outputs": [],
   "source": [
    "free_quints = []\n",
    "bound_quints = []\n",
    "\n",
    "# quintuplicates provided by Cresset. FEP+/JACS set.\n",
    "with open(\"compiled_mbar_freenrgs_cresset_jacs.csv\", \"r\") as readfile:\n",
    "    reader = csv.reader(readfile)\n",
    "    next(reader)\n",
    "    for row in reader:\n",
    "        if \"free\" in row[0]:\n",
    "            free_quints.append([row[0].replace(\"mcl\",\"mcl1\"), row[-1]])\n",
    "        elif \"bound\" in row[0]:\n",
    "            bound_quints.append([row[0].replace(\"mcl\",\"mcl1\"), row[-1]])\n"
   ]
  },
  {
   "cell_type": "code",
   "execution_count": 71,
   "metadata": {},
   "outputs": [
    {
     "name": "stdout",
     "output_type": "stream",
     "text": [
      "['18631-1~18634-1_jnk1_bound', '0.09324301350900235']\n",
      "['45~27_mcl1_bound', '0.1909979937216619']\n",
      "['18625-1~18624-1_jnk1_bound', '0.21606372888330888']\n",
      "['ejm_45~ejm_31_tyk2_bound', '0.05775899725705045']\n",
      "['20667_2qbp~23486_ptp1b_bound', '0.0852567910849335']\n",
      "['18624-1~18628-1_jnk1_bound', '0.2283921761927496']\n",
      "['CAT-4d~CAT-4b_bace_bound', '0.10919213102463017']\n",
      "['6b~6e_thrombin_bound', '0.11766570574105269']\n",
      "['CAT-4l~CAT-4i_bace_bound', '0.043005161321170875']\n",
      "['1b~1c_thrombin_bound', '0.03508438219008563']\n",
      "['7a~3a_thrombin_bound', '0.23479623375139555']\n",
      "['3b~1a_thrombin_bound', '0.20847355192359532']\n",
      "['18634-1~18624-1_jnk1_bound', '0.13266647793448047']\n",
      "['CAT-4l~CAT-4p_bace_bound', '0.21752982351516706']\n",
      "['6a~6e_thrombin_bound', '0.08449686532730076']\n",
      "['6e~1a_thrombin_bound', '0.2191873079143498']\n",
      "['27~47_mcl1_bound', '0.16826716735851946']\n",
      "['20670_2qbs~23477_ptp1b_bound', '0.041538273527675196']\n",
      "['CAT-13j~CAT-13n_bace_bound', '0.18372731462888345']\n",
      "['p38a_3fly~p38a_3flw_p38_bound', '1.6125351283724516']\n",
      "['1d~3a_thrombin_bound', '0.14483570060264836']\n",
      "['p38a_3fly~p38a_2z_p38_bound', '0.8073174233331892']\n",
      "['1c~1d_thrombin_bound', '0.0921349862440973']\n",
      "['p38a_2aa~p38a_3fly_p38_bound', '0.37535244970954795']\n",
      "['jmc_28~jmc_30_tyk2_bound', '0.1716924146267386']\n",
      "['1a~5_thrombin_bound', '0.062073507177700216']\n",
      "['jmc_28~ejm_46_tyk2_bound', '0.2111848817389634']\n",
      "['ejm_46~jmc_30_tyk2_bound', '0.18885747974623612']\n",
      "['18635-1~18628-1_jnk1_bound', '0.1759465048293373']\n",
      "['20670_2qbs~23466_ptp1b_bound', '2.036669716094036']\n",
      "['23479~23482_ptp1b_bound', '0.23095275349161778']\n",
      "['18631-1~18624-1_jnk1_bound', '0.21746463068301475']\n",
      "['18625-1~18628-1_jnk1_bound', '0.02664765993215917']\n",
      "['p38a_3fly~p38a_3fmk_p38_bound', '0.4040665780819542']\n"
     ]
    }
   ],
   "source": [
    "bound_sems = []\n",
    "bound_lomaps = []\n",
    "bound_tgts = []\n",
    "\n",
    "for pert in bound_quints:\n",
    "    print(pert)\n",
    "    lig_1 = lig_2 = None\n",
    "    \n",
    "    base_path = \"/home/jscheen/projects/FEPSPACE/fep_ref_ligands\"\n",
    "    \n",
    "    ligname_1, ligname_2 = \"_\".join(pert[0].split(\"_\")[:-2]).split(\"~\")\n",
    "\n",
    "    lig_1 = BSS.IO.readMolecules([f\"{base_path}/{pert[0].split('_')[-2]}/lig_{ligname_1}.mol2\"])[0]\n",
    "    lig_2 = BSS.IO.readMolecules([f\"{base_path}/{pert[0].split('_')[-2]}/lig_{ligname_2}.mol2\"])[0]\n",
    "\n",
    "    sem = pert[1]\n",
    "    _, lomap_score = BSS.Align.generateNetwork([lig_1, lig_2], names=[\"lig_1\", \"lig_2\"], plot_network=False)\n",
    "    try:\n",
    "        bound_lomaps.append(1/lomap_score[0])\n",
    "        bound_sems.append(float(sem))\n",
    "        bound_tgts.append(pert[0].split('_')[-2])\n",
    "    except IndexError:\n",
    "        pass"
   ]
  },
  {
   "cell_type": "code",
   "execution_count": 72,
   "metadata": {},
   "outputs": [
    {
     "name": "stdout",
     "output_type": "stream",
     "text": [
      "['23477~23466_ptp1b_free', '1.7941145406992105']\n",
      "['45~27_mcl1_free', '0.09654169222962689']\n",
      "['27~47_mcl1_free', '0.1361600009762779']\n",
      "['CAT-4d~CAT-4b_bace_free', '0.08278496758590896']\n",
      "['1c~1d_thrombin_free', '0.03513401351340322']\n",
      "['p38a_2aa~p38a_3fly_p38_free', '0.08156461679588732']\n",
      "['6e~1a_thrombin_free', '0.09634919523825829']\n",
      "['18631-1~18634-1_jnk1_free', '0.1362110453224701']\n",
      "['20667_2qbp~23486_ptp1b_free', '0.043586489299552354']\n",
      "['6a~6e_thrombin_free', '0.04722138432638331']\n",
      "['18624-1~18628-1_jnk1_free', '0.058298927700601855']\n",
      "['20670_2qbs~23477_ptp1b_free', '0.051233608439772683']\n",
      "['p38a_3fly~p38a_3fmk_p38_free', '0.19689293765714402']\n",
      "['18631-1~18624-1_jnk1_free', '0.033593391624841894']\n",
      "['ejm_46~jmc_30_tyk2_free', '0.1726281884514808']\n",
      "['jmc_28~jmc_30_tyk2_free', '0.05826929616238706']\n",
      "['ejm_45~ejm_31_tyk2_free', '0.23619031868994997']\n",
      "['6b~6e_thrombin_free', '0.035820924078811794']\n",
      "['18625-1~18624-1_jnk1_free', '0.0773255788936623']\n",
      "['18634-1~18624-1_jnk1_free', '0.10580171975558811']\n",
      "['18625-1~18628-1_jnk1_free', '0.015841383277984275']\n",
      "['3b~1a_thrombin_free', '0.04607690021626889']\n",
      "['1a~5_thrombin_free', '0.05414118885599024']\n",
      "['CAT-13j~CAT-13n_bace_free', '0.05788713979771339']\n",
      "['1d~3a_thrombin_free', '0.08677347826035325']\n",
      "['1b~1c_thrombin_free', '0.01526171016170862']\n",
      "['p38a_3fly~p38a_2z_p38_free', '0.7515814189971303']\n",
      "['CAT-4l~CAT-4p_bace_free', '0.09243411075009032']\n",
      "['23479~23482_ptp1b_free', '0.14704057449268848']\n",
      "['20670_2qbs~23466_ptp1b_free', '1.594563327435822']\n",
      "['7a~3a_thrombin_free', '0.10911436308268499']\n",
      "['jmc_28~ejm_46_tyk2_free', '0.13415679855005472']\n"
     ]
    }
   ],
   "source": [
    "free_sems = []\n",
    "free_lomaps = []\n",
    "free_tgts = []\n",
    "\n",
    "for pert in free_quints:\n",
    "    print(pert)\n",
    "    lig_1 = lig_2 = None\n",
    "    \n",
    "    base_path = \"/home/jscheen/projects/FEPSPACE/fep_ref_ligands\"\n",
    "    \n",
    "    ligname_1, ligname_2 = \"_\".join(pert[0].split(\"_\")[:-2]).split(\"~\")\n",
    "\n",
    "    lig_1 = BSS.IO.readMolecules([f\"{base_path}/{pert[0].split('_')[-2]}/lig_{ligname_1}.mol2\"])[0]\n",
    "    lig_2 = BSS.IO.readMolecules([f\"{base_path}/{pert[0].split('_')[-2]}/lig_{ligname_2}.mol2\"])[0]\n",
    "\n",
    "    sem = pert[1]\n",
    "    _, lomap_score = BSS.Align.generateNetwork([lig_1, lig_2], names=[\"lig_1\", \"lig_2\"], plot_network=False)\n",
    "    try:\n",
    "        free_lomaps.append(1/lomap_score[0])\n",
    "        free_sems.append(float(sem))\n",
    "        free_tgts.append(pert[0].split('_')[-2])\n",
    "    except IndexError:\n",
    "        pass"
   ]
  },
  {
   "cell_type": "code",
   "execution_count": 74,
   "metadata": {},
   "outputs": [
    {
     "data": {
      "image/png": "[encoded data removed]",
      "text/plain": [
       "<Figure size 720x360 with 2 Axes>"
      ]
     },
     "metadata": {
      "needs_background": "light"
     },
     "output_type": "display_data"
    }
   ],
   "source": [
    "fig, axes = plt.subplots(1,2, figsize=(10,5), sharey=True)\n",
    "\n",
    "sns.scatterplot(free_sems,free_lomaps, hue=free_tgts, ax=axes[0])\n",
    "axes[0].set_title(\"Free\")\n",
    "\n",
    "sns.scatterplot(bound_sems, bound_lomaps, hue=bound_tgts, ax=axes[1])\n",
    "axes[1].set_title(\"Bound\")  \n",
    "axes[0].set_ylabel(\"1/LOMAP-SCORE\")\n",
    "axes[1].set_ylabel(\"1/LOMAP-SCORE\")\n",
    "\n",
    "\n",
    "axes[0].set_xlabel(\"FEP SEM / kcal$\\cdot$mol$^{-1}$\")\n",
    "axes[1].set_xlabel(\"FEP SEM / kcal$\\cdot$mol$^{-1}$\")\n",
    "for ax in axes:\n",
    "    ax.set_xlim(0, 0.5)\n",
    "plt.show()"
   ]
  },
  {
   "cell_type": "code",
   "execution_count": null,
   "metadata": {},
   "outputs": [],
   "source": []
  },
  {
   "cell_type": "code",
   "execution_count": null,
   "metadata": {},
   "outputs": [],
   "source": []
  }
 ],
 "metadata": {
  "kernelspec": {
   "display_name": "Python 3",
   "language": "python",
   "name": "python3"
  },
  "language_info": {
   "codemirror_mode": {
    "name": "ipython",
    "version": 3
   },
   "file_extension": ".py",
   "mimetype": "text/x-python",
   "name": "python",
   "nbconvert_exporter": "python",
   "pygments_lexer": "ipython3",
   "version": "3.7.8"
  }
 },
 "nbformat": 4,
 "nbformat_minor": 2
}
