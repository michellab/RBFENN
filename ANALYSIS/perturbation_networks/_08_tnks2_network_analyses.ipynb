{
 "cells": [
  {
   "cell_type": "markdown",
   "id": "81101648",
   "metadata": {},
   "source": [
    "# Analyse FEP outputs"
   ]
  },
  {
   "cell_type": "code",
   "execution_count": 1,
   "id": "42be5afa",
   "metadata": {},
   "outputs": [],
   "source": [
    "# import from path (github clone) as a conda install is not available yet for freenrgworkflows.\n",
    "import sys\n",
    "sys.path.insert(1, './input/testsets/tnks2/fep_results/freenrgworkflows/networkanalysis/')\n",
    "\n",
    "import networkanalysis\n",
    "import experiments\n",
    "import stats as FEW_stats\n",
    "\n",
    "# import some other modules that we'll need.\n",
    "import matplotlib.pyplot as plt\n",
    "import csv\n",
    "import numpy as np\n",
    "import pandas as pd \n",
    "from glob import glob\n",
    "from tqdm.notebook import tqdm\n",
    "from itertools import combinations\n",
    "from scipy import stats as scistats"
   ]
  },
  {
   "cell_type": "markdown",
   "id": "1fe9934f",
   "metadata": {},
   "source": [
    "This notebook is derived from the BioSimSpace Tutorial held in 2021. See https://github.com/michellab/BioSimSpaceTutorials"
   ]
  },
  {
   "cell_type": "markdown",
   "id": "91f54457",
   "metadata": {},
   "source": [
    "## 1. Load FEP output data."
   ]
  },
  {
   "cell_type": "markdown",
   "id": "0ecabc30",
   "metadata": {},
   "source": [
    "### Variables"
   ]
  },
  {
   "cell_type": "code",
   "execution_count": 2,
   "id": "2432b46d",
   "metadata": {},
   "outputs": [],
   "source": [
    "path_to_fep_results = \"./input/testsets/tnks2/fep_results/\"\n",
    "\n",
    "# experimental values (e.g. ic50/ki) for all ligands in our set. This is optional.\n",
    "exp_filepath = f'{path_to_fep_results}exp_data.csv'\n"
   ]
  },
  {
   "cell_type": "code",
   "execution_count": 3,
   "id": "4a3c798d",
   "metadata": {},
   "outputs": [
    {
     "name": "stdout",
     "output_type": "stream",
     "text": [
      "fepnn network contained 28 edges.\n",
      "lomap network contained 27 edges.\n"
     ]
    }
   ],
   "source": [
    "# count the number of edges per network.\n",
    "for ntwk_type in [\"fepnn\", \"lomap\"]:\n",
    "    edges = []\n",
    "    for idx, row in pd.read_csv(f\"{path_to_fep_results}/processed_summaries/summary_{ntwk_type}_1.csv\").iterrows():\n",
    "        pert = \"~\".join(row[0:2].values)\n",
    "        inv_pert = \"~\".join([row[0:2].values[1], row[0:2].values[0]])\n",
    "\n",
    "        if not pert in edges and not inv_pert in edges:\n",
    "            edges.append(pert)\n",
    "    print(f\"{ntwk_type} network contained {len(edges)} edges.\")\n"
   ]
  },
  {
   "cell_type": "markdown",
   "id": "9411722f",
   "metadata": {},
   "source": [
    "## 2. Load experimental data (if available) and compile into pandas.\n",
    "In cases where experimental data is available, for instance when benchmarking a new protein-ligand set, we would like to compare how well FEP is predicting with respect to these data. Using Pandas, we can work with our data in an intuitive way that is easy to use for plotting graphs."
   ]
  },
  {
   "cell_type": "markdown",
   "id": "bebf266e",
   "metadata": {},
   "source": [
    "Load the experimental data. "
   ]
  },
  {
   "cell_type": "code",
   "execution_count": 4,
   "id": "54481313",
   "metadata": {},
   "outputs": [],
   "source": [
    "experiments = experiments.ExperimentalData()\n",
    "\n",
    "experiments.compute_affinities(exp_filepath, data_type=\"IC50\", comments=\"#\", delimiter=\",\")\n",
    "experimental_DDGs = experiments.freeEnergiesInKcal"
   ]
  },
  {
   "cell_type": "markdown",
   "id": "7c80bacd",
   "metadata": {},
   "source": [
    "For plotting it is typically easier to work with the pandas library. This next bit of code reshapes the data into a dataframe format. \n",
    "\n",
    "Note that if pandas returns value errors at this step, it is likely there are ligands missing from either your FEP outputs or your experimental input."
   ]
  },
  {
   "cell_type": "code",
   "execution_count": 5,
   "id": "3e493b46",
   "metadata": {},
   "outputs": [],
   "source": [
    "def computePM(stats_triplet):\n",
    "    \"\"\"For a list of three values where the middle value is the mean and the outer values are the outer bounds,\n",
    "    return the mean and the plus-minus as the mean error of the bounds compared to the mean.\"\"\"\n",
    "    mean_val = stats_triplet[1]\n",
    "    error_1 = mean_val - stats_triplet[0]\n",
    "    error_2 = stats_triplet[2] - mean_val \n",
    "    mean_err = np.mean([error_1, error_2])\n",
    "    \n",
    "    return round(mean_val, 2), round(mean_err, 2)"
   ]
  },
  {
   "cell_type": "code",
   "execution_count": 6,
   "id": "11bbc365",
   "metadata": {},
   "outputs": [],
   "source": [
    "def runChunk(fep_summary_path, exp_ddgs):\n",
    "    \"\"\"Given a summary file, run FreeEnergyWorkflows and return stats.\"\"\"\n",
    "\n",
    "    fepnn_summary = fep_summary_path\n",
    "    nA = networkanalysis.NetworkAnalyser()\n",
    "    nA.read_perturbations_pandas(fepnn_summary, comments='#')\n",
    "    comp_ddgs = nA.freeEnergyInKcal\n",
    "    \n",
    "    # compute boostrapped statistics.\n",
    "    _stats_obj = FEW_stats.freeEnergyStats()\n",
    "    _stats_obj.generate_statistics(comp_ddgs, exp_ddgs, repeats=100000)\n",
    "    r_val, r_conf = computePM(_stats_obj.R_confidence)\n",
    "    mue_val, mue_conf = computePM(_stats_obj.mue_confidence)\n",
    "    tau_val, tau_conf = computePM(_stats_obj.tau_confidence)\n",
    "    return r_val, mue_val, tau_val"
   ]
  },
  {
   "cell_type": "code",
   "execution_count": 7,
   "id": "9cf1dc2d",
   "metadata": {},
   "outputs": [],
   "source": [
    "def appendToDict(value, key, ref_dict):\n",
    "    \"\"\"\"Adds a value to a dict; appends if key already in dict\"\"\"\n",
    "    if not key in ref_dict:\n",
    "        ref_dict[key] = [value]\n",
    "    else:\n",
    "        ref_dict[key].append(value)\n",
    "    return ref_dict"
   ]
  },
  {
   "cell_type": "code",
   "execution_count": 8,
   "id": "9a20f3da",
   "metadata": {},
   "outputs": [],
   "source": [
    "def getRepStats(rep_dict):\n",
    "    \"\"\"Given a dict where keys are rep numbers and values are stats, compute the mean stat per key\"\"\"\n",
    "    mean_stats = []\n",
    "    sems = []\n",
    "    for i in range(1, 6):\n",
    "        mean_stats.append(np.mean(rep_dict[i]))\n",
    "        sems.append(scistats.sem(rep_dict[i]))\n",
    "    return mean_stats, sems"
   ]
  },
  {
   "cell_type": "code",
   "execution_count": 9,
   "id": "18291da9",
   "metadata": {},
   "outputs": [
    {
     "data": {
      "application/vnd.jupyter.widget-view+json": {
       "model_id": "80ad5526845f4aeaa801c494f3c8745e",
       "version_major": 2,
       "version_minor": 0
      },
      "text/plain": [
       "  0%|          | 0/5 [00:00<?, ?it/s]"
      ]
     },
     "metadata": {},
     "output_type": "display_data"
    }
   ],
   "source": [
    "r_dict_fepnn = {}\n",
    "mue_dict_fepnn = {}\n",
    "tau_dict_fepnn = {}\n",
    "\n",
    "r_dict_lomap = {}\n",
    "mue_dict_lomap = {}\n",
    "tau_dict_lomap = {}\n",
    "\n",
    "# load FEP results into FEW and compute ddGs using WLS regression.\n",
    "for i in tqdm(range(1, 6)):\n",
    "    # make all possible combinations of the 5 replicates.\n",
    "    for cnts in combinations([1,2,3,4,5], i):\n",
    "        cnts = [str(i) for i in cnts]\n",
    "        fep_summary_path = f\"{path_to_fep_results}/processed_summaries/summary_fepnn_{''.join(cnts)}.csv\"\n",
    "            \n",
    "        r_val, mue_val, tau_val = runChunk(fep_summary_path, experimental_DDGs)\n",
    "        appendToDict(r_val, len(cnts), r_dict_fepnn)\n",
    "        appendToDict(mue_val, len(cnts), mue_dict_fepnn)\n",
    "        appendToDict(tau_val, len(cnts), tau_dict_fepnn)\n",
    "\n",
    "        # now do the same for LOMAP network.\n",
    "        fep_summary_path = f\"{path_to_fep_results}/processed_summaries/summary_lomap_{''.join(cnts)}.csv\"\n",
    "            \n",
    "        r_val, mue_val, tau_val = runChunk(fep_summary_path, experimental_DDGs)\n",
    "        appendToDict(r_val, len(cnts), r_dict_lomap)\n",
    "        appendToDict(mue_val, len(cnts), mue_dict_lomap)\n",
    "        appendToDict(tau_val, len(cnts), tau_dict_lomap)"
   ]
  },
  {
   "cell_type": "code",
   "execution_count": 10,
   "id": "aca7c2ad",
   "metadata": {},
   "outputs": [
    {
     "name": "stderr",
     "output_type": "stream",
     "text": [
      "/Users/jscheen/miniconda3/envs/biosimspace-dev/lib/python3.7/site-packages/numpy/core/_methods.py:263: RuntimeWarning: Degrees of freedom <= 0 for slice\n",
      "  keepdims=keepdims, where=where)\n",
      "/Users/jscheen/miniconda3/envs/biosimspace-dev/lib/python3.7/site-packages/numpy/core/_methods.py:254: RuntimeWarning: invalid value encountered in double_scalars\n",
      "  ret = ret.dtype.type(ret / rcount)\n"
     ]
    }
   ],
   "source": [
    "# now get arrays of mean statistic per number of replicates per statistic type.\n",
    "# runtimewarnings are expected because the code tries to compute SEM on a single-value array once.\n",
    "r_vals_fepnn, r_confs_fepnn = getRepStats(r_dict_fepnn)\n",
    "mue_vals_fepnn, mue_confs_fepnn = getRepStats(mue_dict_fepnn)\n",
    "tau_vals_fepnn, tau_confs_fepnn = getRepStats(tau_dict_fepnn)\n",
    "\n",
    "r_vals_lomap, r_confs_lomap = getRepStats(r_dict_lomap)\n",
    "mue_vals_lomap, mue_confs_lomap = getRepStats(mue_dict_lomap)\n",
    "tau_vals_lomap, tau_confs_lomap = getRepStats(tau_dict_lomap)"
   ]
  },
  {
   "cell_type": "code",
   "execution_count": 19,
   "id": "094fc1ae",
   "metadata": {},
   "outputs": [
    {
     "data": {
      "image/png": "[encoded data removed]",
      "text/plain": [
       "<Figure size 864x288 with 3 Axes>"
      ]
     },
     "metadata": {
      "needs_background": "light"
     },
     "output_type": "display_data"
    }
   ],
   "source": [
    "f, axes = plt.subplots(1, 3, figsize=(12, 4))\n",
    "plt.rcParams.update({'font.size': 16,})\n",
    "\n",
    "\n",
    "# fepnn r\n",
    "axes[0].plot([\"1\",\"2\",\"3\",\"4\",\"5\"], r_vals_fepnn, color=\"tab:blue\", label=\"RBFENN $\\widehat{SEM}$\")\n",
    "axes[0].errorbar([\"1\",\"2\",\"3\",\"4\",\"5\"], r_vals_fepnn, color=\"tab:blue\", yerr=r_confs_fepnn, fmt=\"none\", capsize=4)\n",
    "\n",
    "# lomap r\n",
    "axes[0].plot([\"1\",\"2\",\"3\",\"4\",\"5\"], r_vals_lomap, color=\"tab:orange\", label=\"LOMAP-Score\")\n",
    "axes[0].errorbar([\"1\",\"2\",\"3\",\"4\",\"5\"], r_vals_lomap, color=\"tab:orange\", yerr=r_confs_lomap, fmt=\"none\", capsize=4)\n",
    "\n",
    "\n",
    "#############\n",
    "# fepnn tau\n",
    "axes[1].plot([\"1\",\"2\",\"3\",\"4\",\"5\"], tau_vals_fepnn, color=\"tab:blue\", label=\"RBFENN $\\widehat{SEM}$\")\n",
    "axes[1].errorbar([\"1\",\"2\",\"3\",\"4\",\"5\"], tau_vals_fepnn, color=\"tab:blue\", yerr=tau_confs_fepnn, fmt=\"none\", capsize=4)\n",
    "\n",
    "# lomap tau\n",
    "axes[1].plot([\"1\",\"2\",\"3\",\"4\",\"5\"], tau_vals_lomap, color=\"tab:orange\", label=\"LOMAP-Score\")\n",
    "axes[1].errorbar([\"1\",\"2\",\"3\",\"4\",\"5\"], tau_vals_lomap, color=\"tab:orange\", yerr=tau_confs_lomap, fmt=\"none\", capsize=4)\n",
    "#############\n",
    "\n",
    "\n",
    "#############\n",
    "# fepnn mue\n",
    "axes[2].plot([\"1\",\"2\",\"3\",\"4\",\"5\"], mue_vals_fepnn, color=\"tab:blue\", label=\"RBFENN $\\widehat{SEM}$\")\n",
    "axes[2].errorbar([\"1\",\"2\",\"3\",\"4\",\"5\"], mue_vals_fepnn, color=\"tab:blue\", yerr=mue_confs_fepnn, fmt=\"none\", capsize=4)\n",
    "\n",
    "# lomap mue\n",
    "axes[2].plot([\"1\",\"2\",\"3\",\"4\",\"5\"], mue_vals_lomap, color=\"tab:orange\", label=\"LOMAP-Score\")\n",
    "axes[2].errorbar([\"1\",\"2\",\"3\",\"4\",\"5\"], mue_vals_lomap, color=\"tab:orange\", yerr=mue_confs_lomap, fmt=\"none\", capsize=4)\n",
    "#############\n",
    "\n",
    "\n",
    "# annotate.\n",
    "axes[0].annotate(\"A\", xy=(0.02, 0.9), xycoords=\"axes fraction\", size=25)\n",
    "axes[1].annotate(\"B\", xy=(0.02, 0.9), xycoords=\"axes fraction\", size=25)\n",
    "axes[2].annotate(\"C\", xy=(0.1, 0.9), xycoords=\"axes fraction\", size=25)\n",
    "\n",
    "# further formatting.\n",
    "axes[0].legend()\n",
    "axes[1].set_xlabel(\"Number of replicates included in analysis\")\n",
    "axes[0].set_title(\"Pearson R\")\n",
    "axes[1].set_title(r\"Kendall $\\tau$\")\n",
    "axes[2].set_title(\"MUE / kcal$\\cdot$mol$^{-1}$\")\n",
    "axes[0].set_ylabel(\"Metric value\")\n",
    "\n",
    "# share axes between left and center.\n",
    "axes[0].set_ylim(0.1, 0.4)\n",
    "axes[1].set_ylim(0.1, 0.4)\n",
    "\n",
    "axes[1].set_yticklabels([])\n",
    "# shift axes\n",
    "box = axes[1].get_position()\n",
    "box.x0 = box.x0 - 0.03\n",
    "box.x1 = box.x1 - 0.03\n",
    "axes[1].set_position(box)\n",
    "box = axes[2].get_position()\n",
    "box.x0 = box.x0 - 0.03\n",
    "box.x1 = box.x1 - 0.03\n",
    "axes[2].set_position(box)\n",
    "\n",
    "\n",
    "plt.savefig(\"../../figures/tnks_ddg_lineplots.png\", dpi=300, bbox_inches = \"tight\")\n",
    "\n",
    "\n",
    "# plt.tight_layout()\n",
    "plt.show()"
   ]
  },
  {
   "cell_type": "markdown",
   "id": "eb4b6b58",
   "metadata": {},
   "source": [
    "## Compare SOMD edge ddGs with Cresset edge ddGs"
   ]
  },
  {
   "cell_type": "code",
   "execution_count": 13,
   "id": "b5eb5e65",
   "metadata": {},
   "outputs": [],
   "source": [
    "from sklearn.metrics import mean_absolute_error"
   ]
  },
  {
   "cell_type": "code",
   "execution_count": 14,
   "id": "91105048",
   "metadata": {},
   "outputs": [],
   "source": [
    "somd_edges = {}\n",
    "somd_summary_files = glob(f\"{path_to_fep_results}summaries/summary_*.csv\")\n",
    "\n",
    "for somd_summary in somd_summary_files:\n",
    "    with open(somd_summary, \"r\") as readfile:\n",
    "        reader = csv.reader(readfile)\n",
    "        for row in reader:\n",
    "            if row[0] == \"lig_1\":\n",
    "                continue # skip headers\n",
    "            \n",
    "            # get the pert name and add the FE prediction to the somd dict.\n",
    "            pert = \"~\".join([row[0], row[1]])\n",
    "            if not pert in somd_edges:\n",
    "                somd_edges[pert] = [float(row[2])]\n",
    "            else:\n",
    "                somd_edges[pert].append(float(row[2]))\n",
    "                \n",
    "# for each edge, take the mean FE prediction.\n",
    "for pert, fe_preds in somd_edges.items():\n",
    "    somd_edges[pert] = np.mean(fe_preds)"
   ]
  },
  {
   "cell_type": "code",
   "execution_count": 15,
   "id": "1fc5392b",
   "metadata": {},
   "outputs": [],
   "source": [
    "# now get the edge ddG predictions as provided by Cresset.\n",
    "cresset_edges = {}\n",
    "with open(\"./input/testsets/tnks2/cresset_ddgs.csv\", \"r\") as readfile:\n",
    "    reader = csv.reader(readfile)\n",
    "    # columns are [pertname, forward FE pred, backward FE pred].\n",
    "    for pert, fe_fwd, fe_bckwd in reader:\n",
    "        inv_pert = \"~\".join([pert.split(\"~\")[1], pert.split(\"~\")[0]])\n",
    "        \n",
    "        cresset_edges[pert] = float(fe_fwd)\n",
    "        cresset_edges[inv_pert] = float(fe_bckwd)        "
   ]
  },
  {
   "cell_type": "code",
   "execution_count": 16,
   "id": "3e4b199c",
   "metadata": {},
   "outputs": [],
   "source": [
    "# now find overlapping edges.\n",
    "somd_fe_preds = []\n",
    "cresset_fe_preds = []\n",
    "\n",
    "for pert, somd_pred in somd_edges.items():\n",
    "    if pert in cresset_edges:\n",
    "        somd_fe_preds.append(somd_pred)\n",
    "        cresset_fe_preds.append(cresset_edges[pert])"
   ]
  },
  {
   "cell_type": "code",
   "execution_count": 17,
   "id": "e989e075",
   "metadata": {},
   "outputs": [
    {
     "name": "stdout",
     "output_type": "stream",
     "text": [
      "R ~ 0.71\n",
      "MUE ~ 0.93 kcal/mol\n",
      "Tau ~ 0.42\n"
     ]
    },
    {
     "data": {
      "image/png": "[encoded data removed]",
      "text/plain": [
       "<Figure size 360x360 with 1 Axes>"
      ]
     },
     "metadata": {
      "needs_background": "light"
     },
     "output_type": "display_data"
    }
   ],
   "source": [
    "f, ax = plt.subplots(figsize=(5,5))\n",
    "plt.scatter(somd_fe_preds, cresset_fe_preds)\n",
    "plt.xlim(-4,4)\n",
    "plt.ylim(-4,4)\n",
    "\n",
    "# plot 1/2 kcal bounds:\n",
    "ax.fill_between(\n",
    "                x=[-100, 100], \n",
    "                y2=[-100.25,99.75],\n",
    "                y1=[-99.75, 100.25],\n",
    "                lw=0, \n",
    "                zorder=2,\n",
    "                alpha=0.3,\n",
    "                color=\"grey\")\n",
    "# upper bound:\n",
    "ax.fill_between(\n",
    "                x=[-100, 100], \n",
    "                y2=[-99.5,100.5],\n",
    "                y1=[-99.75, 100.25],\n",
    "                lw=0, \n",
    "                zorder=2,\n",
    "                color=\"grey\", \n",
    "                alpha=0.2)\n",
    "# lower bound:\n",
    "ax.fill_between(\n",
    "                x=[-100, 100], \n",
    "                y2=[-100.25,99.75],\n",
    "                y1=[-100.5, 99.5],\n",
    "                lw=0, \n",
    "                zorder=2,\n",
    "                color=\"grey\", \n",
    "                alpha=0.2)\n",
    "\n",
    "\n",
    "plt.xlabel(\"SOMD pairwise $\\Delta\\Delta$G$_{bind}$ / kcal$\\cdot$mol$^{-1}$\")\n",
    "plt.ylabel(\"Flare pairwise $\\Delta\\Delta$G$_{bind}$ / kcal$\\cdot$mol$^{-1}$\")\n",
    "\n",
    "print(f\"R ~ {round(scistats.pearsonr(somd_fe_preds, cresset_fe_preds)[0], 2)}\")\n",
    "print(f\"MUE ~ {round(mean_absolute_error(somd_fe_preds, cresset_fe_preds), 2)} kcal/mol\")\n",
    "print(f\"Tau ~ {round(scistats.kendalltau(somd_fe_preds, cresset_fe_preds)[0], 2)}\")\n",
    "\n",
    "plt.show()"
   ]
  },
  {
   "cell_type": "code",
   "execution_count": null,
   "id": "3468f889",
   "metadata": {},
   "outputs": [],
   "source": []
  }
 ],
 "metadata": {
  "kernelspec": {
   "display_name": "Python 3 (ipykernel)",
   "language": "python",
   "name": "python3"
  },
  "language_info": {
   "codemirror_mode": {
    "name": "ipython",
    "version": 3
   },
   "file_extension": ".py",
   "mimetype": "text/x-python",
   "name": "python",
   "nbconvert_exporter": "python",
   "pygments_lexer": "ipython3",
   "version": "3.7.10"
  }
 },
 "nbformat": 4,
 "nbformat_minor": 5
}
