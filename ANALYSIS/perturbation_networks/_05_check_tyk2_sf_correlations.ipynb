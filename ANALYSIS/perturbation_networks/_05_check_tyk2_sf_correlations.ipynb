{
 "cells": [
  {
   "cell_type": "code",
   "execution_count": 51,
   "id": "9599b18c",
   "metadata": {},
   "outputs": [],
   "source": [
    "import BioSimSpace as BSS\n",
    "import pandas as pd\n",
    "from scipy import stats\n",
    "from sklearn.metrics import mean_absolute_error\n",
    "from sklearn.preprocessing import minmax_scale\n",
    "import glob\n",
    "import csv\n",
    "import seaborn as sns\n",
    "import matplotlib.pyplot as plt\n",
    "import matplotlib as mpl\n",
    "from mpl_toolkits.axes_grid1.inset_locator import inset_axes\n",
    "from matplotlib.gridspec import  GridSpec\n",
    "\n",
    "import numpy as np\n",
    "from itertools import chain\n",
    "import os\n",
    "import shutil\n",
    "from functools import reduce\n",
    "\n",
    "from rdkit import Chem\n",
    "from rdkit.Chem import Draw, rdFMCS\n",
    "from rdkit.ML.Scoring.Scoring import CalcBEDROC, CalcROC, CalcEnrichment\n",
    "from importlib import reload\n",
    "\n",
    "import itertools"
   ]
  },
  {
   "cell_type": "code",
   "execution_count": 2,
   "id": "e0e03f7c",
   "metadata": {},
   "outputs": [],
   "source": [
    "# import from path (github clone) as a conda install is not available yet for freenrgworkflows.\n",
    "import sys\n",
    "sys.path.insert(1, '../../../BioSimSpaceTutorials/04_fep/freenrgworkflows/networkanalysis/')\n",
    "import networkanalysis as networkanalysis_few\n",
    "import experiments as experiments_few\n",
    "import stats as stats_few"
   ]
  },
  {
   "cell_type": "code",
   "execution_count": 3,
   "id": "b955700b",
   "metadata": {},
   "outputs": [],
   "source": [
    "def computeStats(arr_1, arr_2):\n",
    "    \"\"\"return statistics on arrays\"\"\"\n",
    "    r = round(stats.pearsonr(arr_1, arr_2)[0], 2)\n",
    "    mue = round(mean_absolute_error(arr_1, arr_2), 2)\n",
    "    tau = round(stats.kendalltau(arr_1, arr_2)[0], 2)\n",
    "\n",
    "    return r, mue, tau\n"
   ]
  },
  {
   "cell_type": "code",
   "execution_count": 4,
   "id": "420cd348",
   "metadata": {},
   "outputs": [
    {
     "data": {
      "image/png": "[encoded data removed]",
      "text/plain": [
       "<Figure size 432x288 with 1 Axes>"
      ]
     },
     "metadata": {
      "needs_background": "light"
     },
     "output_type": "display_data"
    }
   ],
   "source": [
    "true_perts = pd.read_csv(\"input/testsets/tyk2/fep_data_tyk2_fc.csv\")[[\"lig_1\", \"lig_2\"]].values\n",
    "true_perts = [ f\"{pert[0]}~{pert[1]}\" for pert in true_perts]\n",
    "true_sems = pd.read_csv(\"input/testsets/tyk2/fep_data_tyk2_fc.csv\")[\"error\"].values\n",
    "true_sems  = minmax_scale(1 /  true_sems, feature_range=(0,1))\n",
    "\n",
    "plt.hist(true_sems, bins=100)\n",
    "plt.show()"
   ]
  },
  {
   "cell_type": "markdown",
   "id": "c544093d",
   "metadata": {},
   "source": [
    "## make a dict with all perts and corresponding numbers of heavy atoms perturbed."
   ]
  },
  {
   "cell_type": "code",
   "execution_count": 28,
   "id": "f0845db4",
   "metadata": {},
   "outputs": [],
   "source": [
    "\n",
    "def CountHAChange(fragment1_mol, fragment2_mol):\n",
    "    \"\"\"Takes in two rdkit fragment molecules, counts heavy atom changes and returns the number.\"\"\"\n",
    "    fragA_smiles = Chem.MolToSmiles(fragA)\n",
    "    fragB_smiles = Chem.MolToSmiles(fragB)  \n",
    "    \n",
    "    double_letter_elements = [\"Cl\", \"Br\", \"Si\"]\n",
    "\n",
    "    # assign a score based on n_ha transformed:\n",
    "    transform_score = 0\n",
    "    for frag_A, frag_B in itertools.zip_longest(fragA_smiles.split(\".\"), fragB_smiles.split(\".\")):\n",
    "\n",
    "        # clean up the strings by just retaining letters for easier counting:\n",
    "        if frag_A:\n",
    "            fragA_atoms = ''.join(x for x in frag_A if x.isalpha())\n",
    "        else:\n",
    "            fragA_atoms = \"X\"\n",
    "        if frag_B:\n",
    "            fragB_atoms = ''.join(x for x in frag_B if x.isalpha())\n",
    "        else:\n",
    "            fragB_atoms = \"X\"\n",
    "            \n",
    "        \n",
    "        # a substitution counts as a single-atom change:\n",
    "        if len(fragA_atoms) == len(fragB_atoms):\n",
    "            transform_score += 1\n",
    "        \n",
    "        elif len(fragA_atoms) != len(fragB_atoms):\n",
    "            # add number of heavy atoms changed.\n",
    "            if len(fragA_atoms) > len(fragB_atoms):\n",
    "                transform_score += len(fragA_atoms)\n",
    "            else:\n",
    "                transform_score += len(fragB_atoms)\n",
    "        \n",
    "        # correct for double-letter elements by subtracting 1.\n",
    "        for elem in double_letter_elements:\n",
    "            if elem in fragA_atoms:\n",
    "                transform_score -= 1\n",
    "            if elem in fragB_atoms:\n",
    "                transform_score -= 1\n",
    "            \n",
    "\n",
    "    return transform_score"
   ]
  },
  {
   "cell_type": "code",
   "execution_count": 34,
   "id": "e2928ceb",
   "metadata": {},
   "outputs": [],
   "source": [
    "all_lig_paths = glob.glob(\"input/testsets/tyk2/ligands/*.sdf\")\n",
    "all_perts = itertools.combinations(all_lig_paths, 2)\n",
    "\n",
    "num_ha_perturbed = {} # useful for retrieving the number of perturbed HAs downstream in the notebook.\n",
    "\n",
    "for pert in all_perts:\n",
    "    ligA = Chem.SDMolSupplier(pert[0])[0]\n",
    "    ligB = Chem.SDMolSupplier(pert[1])[0]\n",
    "    \n",
    "    mcs = rdFMCS.FindMCS([ligA, ligB], ringMatchesRingOnly=True, completeRingsOnly=True)\n",
    "\n",
    "    # subtract the MCS to get the perturbed (i.e. non-mcs) atoms.\n",
    "    fragA = Chem.ReplaceCore(ligA, Chem.MolFromSmarts(mcs.smartsString))\n",
    "    fragB = Chem.ReplaceCore(ligB, Chem.MolFromSmarts(mcs.smartsString))\n",
    "\n",
    "    # count the number of perturbed heavy atoms.\n",
    "    ha_change_count = CountHAChange(fragA, fragB)\n",
    "\n",
    "    # get the pert name (and the inverse).\n",
    "    pert_name = pert[0].split(\"/\")[-1].replace(\".sdf\",\"\")+\"~\"+pert[1].split(\"/\")[-1].replace(\".sdf\",\"\")\n",
    "    pert_name_inv = pert[1].split(\"/\")[-1].replace(\".sdf\",\"\")+\"~\"+pert[0].split(\"/\")[-1].replace(\".sdf\",\"\")\n",
    "\n",
    "    # add both to the dict.\n",
    "    num_ha_perturbed[pert_name] = ha_change_count\n",
    "    num_ha_perturbed[pert_name_inv] = ha_change_count"
   ]
  },
  {
   "cell_type": "markdown",
   "id": "ecaaeeef",
   "metadata": {},
   "source": [
    "## Compare 4ns true SEM edges with FEP-Space true SEM edges"
   ]
  },
  {
   "cell_type": "code",
   "execution_count": 5,
   "id": "de7cc102",
   "metadata": {},
   "outputs": [],
   "source": [
    "def plotScatter(x, y, log_transf=True, xlabel=\"\", ylabel=\"\"):\n",
    "\n",
    "    x_log = np.log(x)\n",
    "    y_log = np.log(y)\n",
    "    \n",
    "    f, ax = plt.subplots(1,1, figsize=(4,4))\n",
    "    ax.scatter(x, y)\n",
    "    if log_transf:\n",
    "        ax.set_xscale('log')\n",
    "        ax.set_yscale('log')\n",
    "\n",
    "\n",
    "\n",
    "    ax.set_xlabel(xlabel)\n",
    "    ax.set_ylabel(ylabel)\n",
    "    \n",
    "    if log_transf:\n",
    "        r, mue, tau = computeStats(x_log, y_log)\n",
    "    else:\n",
    "        r, mue, tau = computeStats(x, y)\n",
    "\n",
    "    ax.annotate(\"R: \"+str(r), xy=(0.3, 0.9), xycoords=\"axes fraction\", ha=\"right\")\n",
    "    ax.annotate(\"MUE \"+str(mue), xy=(0.3, 0.8), xycoords=\"axes fraction\", ha=\"right\")\n",
    "    ax.annotate(r\"$\\tau$: \"+str(tau), xy=(0.3, 0.7), xycoords=\"axes fraction\", ha=\"right\")\n",
    "\n",
    "    min_x_ax = min(min(x), min(y))*1.5\n",
    "    max_y_ax = max(max(x), max(y))*1.5\n",
    "    \n",
    "    ax.set_xlim(min_x_ax, max_y_ax)\n",
    "    ax.set_ylim(min_x_ax, max_y_ax)\n",
    "\n",
    "    ax.plot([min_x_ax, max_y_ax], [min_x_ax, max_y_ax], color=\"black\", zorder=-100)\n",
    "    ax.set_title(f\"n={len(x)}\")\n",
    "    plt.tight_layout()\n"
   ]
  },
  {
   "cell_type": "code",
   "execution_count": 6,
   "id": "390e4761",
   "metadata": {},
   "outputs": [],
   "source": [
    "fepspace_df = pd.read_csv(\"input/fepspace_sems_full.csv\")\n",
    "\n",
    "ddg_sems = []\n",
    "fepspace_sems = []\n",
    "\n",
    "for pert in pd.read_csv(\"input/testsets/tyk2/fep_data_tyk2_fc.csv\").values:\n",
    "    query_name = f\"{pert[0]}~{pert[1]}_tyk2\"\n",
    "    ddg_sem = pert[-1]\n",
    "    \n",
    "    fepspace_sem = fepspace_df[fepspace_df['pert'] == query_name]['SEM'].values\n",
    "    \n",
    "    if len(fepspace_sem) > 0:\n",
    "        ddg_sems.append(float(ddg_sem))\n",
    "        fepspace_sems.append(float(fepspace_sem[0]))\n",
    "\n",
    "#fepspace_sems = minmax_scale(fepspace_sems, feature_range=(min(ddg_sems), max(ddg_sems)))"
   ]
  },
  {
   "cell_type": "markdown",
   "id": "7c088262",
   "metadata": {},
   "source": [
    "## Correlate (FEP-EXP) versus SEM"
   ]
  },
  {
   "cell_type": "code",
   "execution_count": 7,
   "id": "0ca0402f",
   "metadata": {},
   "outputs": [],
   "source": [
    "# get the fep data.\n",
    "fep_data = {}\n",
    "with open(\"input/testsets/tyk2/fep_data_tyk2_fc.csv\", \"r\") as readfile:\n",
    "    reader = csv.reader(readfile)\n",
    "    next(reader)\n",
    "    for row in reader:\n",
    "        fep_data[\"~\".join(row[:2])] = row[2:]"
   ]
  },
  {
   "cell_type": "code",
   "execution_count": 8,
   "id": "15a77e4c",
   "metadata": {},
   "outputs": [],
   "source": [
    "# get the experimental data.\n",
    "# copied from https://github.com/michellab/freenrgworkflows/blob/devel/networkanalysis/experiments.py#L80-L101\n",
    "_kTkcal = 0.0019872041 * 300\n",
    "_RTkcal = 1.987203611 * 300\n",
    "\n",
    "error = None\n",
    "error_list = []\n",
    "\n",
    "data = pd.read_csv(\"input/testsets/tyk2/exp_data_tyk2.dat\")\n",
    "\n",
    "dG = []\n",
    "for i in range(len(data)):\n",
    "    r = float(data.iloc[i, 1] / data.iloc[0, 1])\n",
    "    dG.append(_kTkcal * np.log(r))\n",
    "\n",
    "    error_list.append(_kTkcal * np.log(2))\n",
    "        \n",
    "# Now we normalise the free energies\n",
    "dG = dG - np.mean(dG)\n",
    "\n",
    "exp_data = {}\n",
    "exp_data_ha = {}\n",
    "for i in range(len(data)):\n",
    "    lig = data.iloc[i, 0] \n",
    "    freenrg = dG[i]\n",
    "    error = error_list[i] # don't need this in plot.\n",
    "    exp_data[lig] = freenrg   \n"
   ]
  },
  {
   "cell_type": "code",
   "execution_count": 37,
   "id": "972b43f4",
   "metadata": {
    "scrolled": false
   },
   "outputs": [],
   "source": [
    "fep_sems = []\n",
    "fep_minus_exp_freenrgs = []\n",
    "fep_minus_exp_freenrgs_HAs = []\n",
    "\n",
    "for pert, fep_outputs in fep_data.items():\n",
    "    # get the FEP predictions as floats.\n",
    "    fep_sem = float(fep_outputs[1])\n",
    "    fep_freenrg = float(fep_outputs[0])\n",
    "    \n",
    "    # get the experimental values for each pert.\n",
    "    lig_1, lig_2 = pert.split(\"~\")\n",
    "    exp_ddg = exp_data[lig_2] - exp_data[lig_1]\n",
    "\n",
    "    # compute the absolute FEP-EXP variance.\n",
    "    abs_fep_minus_exp = abs(fep_freenrg - exp_ddg)\n",
    "    fep_minus_exp_freenrgs.append(abs_fep_minus_exp)\n",
    "    fep_sems.append(fep_sem)\n",
    "    \n",
    "    # get the number of perturbed heavy atoms for this pert.\n",
    "    fep_minus_exp_freenrgs_HAs.append(num_ha_perturbed[pert])\n"
   ]
  },
  {
   "cell_type": "code",
   "execution_count": 43,
   "id": "f63c68e3",
   "metadata": {},
   "outputs": [],
   "source": [
    "# what about FEP-Space SEM vs ddGoffset?\n",
    "fepspace_sems = []\n",
    "ddg_offsets_matched = []\n",
    "ddg_offsets_matched_HAs = []\n",
    "\n",
    "for pert, fep_outputs in fep_data.items():\n",
    "    query_name = f\"{pert}_tyk2\"\n",
    "    \n",
    "    # get the FEP predictions as floats.\n",
    "    fep_sem = float(fep_outputs[1])\n",
    "    fep_freenrg = float(fep_outputs[0])\n",
    "    \n",
    "    # get the experimental values for each pert.\n",
    "    lig_1, lig_2 = pert.split(\"~\")\n",
    "    exp_ddg = exp_data[lig_2] - exp_data[lig_1]\n",
    "\n",
    "    # compute the absolute FEP-EXP variance.\n",
    "    abs_fep_minus_exp = abs(fep_freenrg - exp_ddg)\n",
    "    \n",
    "    # get the FEP-Space SEM.\n",
    "    fepspace_sem = fepspace_df[fepspace_df['pert'] == query_name]['SEM'].values\n",
    "    \n",
    "    if len(fepspace_sem) > 0: # i.e. if found in FEP-Space.\n",
    "        fepspace_sems.append(float(fepspace_sem))\n",
    "        ddg_offsets_matched.append(float(abs_fep_minus_exp))\n",
    "        \n",
    "        # get the number of perturbed heavy atoms for this pert.\n",
    "        ddg_offsets_matched_HAs.append(num_ha_perturbed[pert])"
   ]
  },
  {
   "cell_type": "code",
   "execution_count": 44,
   "id": "a8bb8b13",
   "metadata": {},
   "outputs": [],
   "source": [
    "# what about predicted SEM vs ddGoffset?\n",
    "pred_sems = []\n",
    "ddg_offsets = []\n",
    "\n",
    "\n",
    "fepnn_preds = []\n",
    "for input_file in glob.glob(\"output/series_predictions/tyk2_*.csv\"):\n",
    "\n",
    "    fepnn_df = pd.read_csv(input_file) # can keep the last df as the source df because all other columns are the same.\n",
    "\n",
    "    fepnn_preds.append(fepnn_df[\"pred_sem_mean\"].values)\n",
    "\n",
    "fepnn_df[\"pred_sem_mean\"] = np.mean(fepnn_preds, axis=0)\n",
    "fepnn_df[\"pred_sem_std\"] = np.std(fepnn_preds, axis=0)\n",
    "\n",
    "n_ha_perturbed_C_D = []\n",
    "for pert, fep_outputs in fep_data.items():\n",
    "    query_name = f\"{pert}_tyk2\"\n",
    "    \n",
    "    # get the FEP predictions as floats.\n",
    "    fep_sem = float(fep_outputs[1])\n",
    "    fep_freenrg = float(fep_outputs[0])\n",
    "    \n",
    "    # get the experimental values for each pert.\n",
    "    lig_1, lig_2 = pert.split(\"~\")\n",
    "    exp_ddg = exp_data[lig_2] - exp_data[lig_1]\n",
    "\n",
    "    # compute the absolute FEP-EXP variance.\n",
    "    abs_fep_minus_exp = abs(fep_freenrg - exp_ddg)\n",
    "    \n",
    "    # get the FEP-NN predicted SEM.\n",
    "    pred_sem = fepnn_df[fepnn_df['pert_name'] == pert]['pred_sem_mean'].values\n",
    "    \n",
    "    # get the number of perturbed heavy atoms.\n",
    "    n_ha = fepnn_df[fepnn_df['pert_name'] == pert]['num_ha_change'].values[0]\n",
    "    n_ha_perturbed_C_D.append(n_ha)\n",
    "    \n",
    "    pred_sems.append(float(pred_sem[0]))\n",
    "    ddg_offsets.append(float(abs_fep_minus_exp))"
   ]
  },
  {
   "cell_type": "code",
   "execution_count": 45,
   "id": "2c051c07",
   "metadata": {},
   "outputs": [],
   "source": [
    "# what about LOMAP-scores?\n",
    "lomap_scores_dict = {}\n",
    "with open(\"process/lomap/lomap_workdir/outputs/lomap_score_with_connection.txt\", \"r\") as lomap_file:\n",
    "    reader = csv.reader(lomap_file)\n",
    "    next(reader)\n",
    "    for row in reader:\n",
    "        cleaned_row = [ item.replace(\" \",\"\") for item in row ]\n",
    "        \n",
    "        lig1 = \"_\".join(cleaned_row[2].split(\"_\")[1:]).split(\".\")[0]\n",
    "        lig2 = \"_\".join(cleaned_row[3].split(\"_\")[1:]).split(\".\")[0]\n",
    "        pert = lig1+\"~\"+lig2\n",
    "        lomap_score = float(cleaned_row[4])\n",
    "        lomap_scores_dict[pert] = lomap_score\n",
    "        \n",
    "        # lomap's mtx edges are monodirectional, but our predictions are bidirectional. Write both directions.\n",
    "        inv_pert = lig2+\"~\"+lig1\n",
    "        lomap_scores_dict[inv_pert] = lomap_score\n",
    "\n",
    "ddg_offsets = []\n",
    "lomap_scores = []\n",
    "\n",
    "for pert, fep_outputs in fep_data.items():\n",
    "    query_name = f\"{pert}_tyk2\"\n",
    "    \n",
    "    # get the FEP predictions as floats.\n",
    "    fep_sem = float(fep_outputs[1])\n",
    "    fep_freenrg = float(fep_outputs[0])\n",
    "    \n",
    "    # get the experimental values for each pert.\n",
    "    lig_1, lig_2 = pert.split(\"~\")\n",
    "    exp_ddg = exp_data[lig_2] - exp_data[lig_1]\n",
    "\n",
    "    # compute the absolute FEP-EXP variance.\n",
    "    abs_fep_minus_exp = abs(fep_freenrg - exp_ddg)\n",
    "    \n",
    "    ddg_offsets.append(abs_fep_minus_exp)\n",
    "    lomap_scores.append(lomap_scores_dict[pert])"
   ]
  },
  {
   "cell_type": "code",
   "execution_count": 46,
   "id": "e973330a",
   "metadata": {},
   "outputs": [],
   "source": [
    "# let's do that again, but now scale the LOMAP score to the ddGoffset range. \n",
    "lomap_scores_scaled = minmax_scale(lomap_scores, feature_range=(min(ddg_offsets), max(ddg_offsets)))\n"
   ]
  },
  {
   "cell_type": "markdown",
   "id": "0c6aa242",
   "metadata": {},
   "source": [
    "### Make a nice subplots figure with all of these correlations."
   ]
  },
  {
   "cell_type": "code",
   "execution_count": 71,
   "id": "b7ca5807",
   "metadata": {
    "scrolled": false
   },
   "outputs": [
    {
     "data": {
      "image/png": "[encoded data removed]",
      "text/plain": [
       "<Figure size 720x720 with 5 Axes>"
      ]
     },
     "metadata": {
      "needs_background": "light"
     },
     "output_type": "display_data"
    }
   ],
   "source": [
    "f, axes = plt.subplots(2, 2, figsize=(10,10), sharey=True, sharex=True)\n",
    "\n",
    "# top left. ddgbind vs sem\n",
    "axes[0][0].scatter(fep_sems, fep_minus_exp_freenrgs, c=fep_minus_exp_freenrgs_HAs)\n",
    "axes[0][0].set_xlabel(r\"$\\Delta\\Delta$G$_{bind}$ SEM / kcal$\\cdot$mol$^{-1}$\")\n",
    "axes[0][0].set_ylabel(r\"$\\Delta\\Delta$G$_{offset}$ / kcal$\\cdot$mol$^{-1}$\")\n",
    "\n",
    "# top right. fepspace sem vs offset\n",
    "axes[0][1].scatter(fepspace_sems, ddg_offsets_matched, c=ddg_offsets_matched_HAs)\n",
    "axes[0][1].set_xlabel(\"RBFE-Space $SEM_{\\overline{\\Delta{G}}_{solvated}}$ / kcal$\\cdot$mol$^{-1}$\")\n",
    "\n",
    "# bottom left. pred sem vs offset\n",
    "axes[1][0].scatter(pred_sems, ddg_offsets, c=n_ha_perturbed_C_D)\n",
    "axes[1][0].set_xlabel(r\"$\\widehat{SEM}$ / kcal$\\cdot$mol$^{-1}$\")\n",
    "axes[1][0].set_ylabel(r\"$\\Delta\\Delta$G$_{offset}$ / kcal$\\cdot$mol$^{-1}$\")\n",
    "\n",
    "# bottom right. LOMAP vs offset\n",
    "# bottom left. pred sem vs offset\n",
    "axes[1][1].scatter(lomap_scores_scaled, ddg_offsets, c=n_ha_perturbed_C_D)\n",
    "axes[1][1].set_xlabel(r\"LOMAP-Score (scaled)\")\n",
    "\n",
    "\n",
    "for ax, index in zip(axes.flatten(), [\"A\", \"B\", \"C\", \"D\"]):\n",
    "    ax.set_yscale(\"log\")\n",
    "    ax.set_xscale(\"log\")\n",
    "    ax.plot([0, 1], [0, 1], transform=ax.transAxes, ls=\"--\", zorder=-10, c=\"black\")\n",
    "    ax.annotate(index, xy=(0.03, 0.9), xycoords=\"axes fraction\", size=26)\n",
    "\n",
    "\n",
    "# turn x axis labels back on for A/B\n",
    "axes[0][0].xaxis.set_tick_params(labelbottom=True)\n",
    "axes[0][1].xaxis.set_tick_params(labelbottom=True)\n",
    "\n",
    "# add colourbar.\n",
    "ax2 = f.add_axes([1, 0.58, 0.02, 0.4])\n",
    "cb = mpl.colorbar.ColorbarBase(ax2, values=np.arange(0,11), label=\"Number of heavy atoms perturbed\",\n",
    "                              orientation='vertical')\n",
    "\n",
    "plt.tight_layout()\n",
    "plt.savefig(\"/home/jscheen/projects/FEPSPACE/figures/tyk2_ddg_offset_corrs_scatters.png\", dpi=300)\n",
    "plt.show()"
   ]
  },
  {
   "cell_type": "markdown",
   "id": "1f4f1fbe",
   "metadata": {},
   "source": [
    "### Write a file where True SEM is replaced with ddGoffset that we can use for network generation."
   ]
  },
  {
   "cell_type": "code",
   "execution_count": null,
   "id": "f696fb40",
   "metadata": {},
   "outputs": [],
   "source": [
    "ddGoffset_dict = {}\n",
    "for pert, fep_outputs in fep_data.items():\n",
    "    # get the FEP predictions as floats.\n",
    "    fep_sem = float(fep_outputs[1])\n",
    "    fep_freenrg = float(fep_outputs[0])\n",
    "    \n",
    "    # get the experimental values for each pert.\n",
    "    lig_1, lig_2 = pert.split(\"~\")\n",
    "    exp_ddg = exp_data[lig_2] - exp_data[lig_1]\n",
    "\n",
    "    # compute the absolute FEP-EXP variance.\n",
    "    abs_fep_minus_exp = abs(fep_freenrg - exp_ddg)\n",
    "    ddGoffset_dict[pert] = abs_fep_minus_exp\n",
    "    \n",
    "    "
   ]
  },
  {
   "cell_type": "code",
   "execution_count": null,
   "id": "a3f2bc86",
   "metadata": {},
   "outputs": [],
   "source": [
    "with open(\"input/testsets/tyk2/fep_data_tyk2_fc.csv\", \"r\") as readfile, \\\n",
    "     open(\"input/testsets/tyk2/fep_data_tyk2_fc_ddGoffset.csv\", \"w\") as writefile:\n",
    "        reader = csv.reader(readfile)\n",
    "        writer = csv.writer(writefile)\n",
    "        for row in reader:\n",
    "            if row[0] == \"lig_1\":\n",
    "                writer.writerow(row) # copies over the header.\n",
    "            else:\n",
    "                pert = f\"{row[0]}~{row[1]}\"\n",
    "                ddGoffset = ddGoffset_dict[pert]\n",
    "                row[-1] = ddGoffset # replaces SEM with ddGoffset value.\n",
    "                writer.writerow(row)\n",
    "    "
   ]
  },
  {
   "cell_type": "markdown",
   "id": "6d9b88d4",
   "metadata": {},
   "source": [
    "# Merck set network generation - LOMAP-Score and FEPNN SEM."
   ]
  },
  {
   "cell_type": "code",
   "execution_count": null,
   "id": "6e963d3f",
   "metadata": {},
   "outputs": [],
   "source": [
    "def writeTransformations(transfs, ligand_names, filename):\n",
    "    \"\"\"writes a simple CSV file containing all perturbations picked by LOMAP.\"\"\"\n",
    "    with open(filename, \"w\") as writefile:\n",
    "        writer = csv.writer(writefile)\n",
    "        for liga, ligb in transfs:\n",
    "            writer.writerow([f\"{ligand_names[liga]}~{ligand_names[ligb]}\"])\n",
    "            \n",
    "    "
   ]
  },
  {
   "cell_type": "code",
   "execution_count": null,
   "id": "6bcd3dc8",
   "metadata": {},
   "outputs": [],
   "source": [
    "tgt_to_run = \"tnks2\""
   ]
  },
  {
   "cell_type": "markdown",
   "id": "0ea138d7",
   "metadata": {},
   "source": [
    "### Naive LOMAP"
   ]
  },
  {
   "cell_type": "code",
   "execution_count": null,
   "id": "d9eaa14c",
   "metadata": {},
   "outputs": [],
   "source": [
    "path_to_ligands = f\"/home/jscheen/projects/FEPSPACE/fep_ref_ligands/{tgt_to_run}\"\n",
    "ligand_files = glob.glob(f\"{path_to_ligands}/*.sdf\")\n",
    "\n",
    "runner_work_dir = \"tmp/lomap\"\n",
    "if os.path.exists(runner_work_dir):\n",
    "    shutil.rmtree(runner_work_dir)\n",
    "\n",
    "\n",
    "ligands = []\n",
    "ligand_names = []\n",
    "\n",
    "for filepath in ligand_files:\n",
    "    if \"8\" in filepath:\n",
    "        continue\n",
    "    # append the molecule object to a list.\n",
    "    ligands.append(Chem.SDMolSupplier(filepath)[0])\n",
    "    \n",
    "    # append the molecule name to another list so that we can use the name of each molecule in our workflow.\n",
    "    ligand_names.append(filepath.split(\"/\")[-1].replace(\".sdf\",\"\"))\n",
    "\n",
    "tranformations, lomap_scores_tnks2 = BSS.Align.generateNetwork(ligands, plot_network=True, names=ligand_names, \n",
    "                                                         work_dir=runner_work_dir,\n",
    "                                                         #links_file=\"tmp/links_file.in\"\n",
    "                                                        )"
   ]
  },
  {
   "cell_type": "code",
   "execution_count": null,
   "id": "91c7afff",
   "metadata": {},
   "outputs": [],
   "source": [
    "writeTransformations(tranformations, ligand_names, \n",
    "                     filename=f\"output/series_predictions/{tgt_to_run}_lomap_perts.csv\")"
   ]
  },
  {
   "cell_type": "markdown",
   "id": "56ba9601",
   "metadata": {},
   "source": [
    "### FEP-NN LOMAP"
   ]
  },
  {
   "cell_type": "code",
   "execution_count": null,
   "id": "d033000a",
   "metadata": {},
   "outputs": [],
   "source": [
    "def scaleArray(arr):\n",
    "    \"\"\"Scales an array to be the inverse in the range [0-1].\"\"\"\n",
    "    \n",
    "    # normalise to the range 0-1.\n",
    "    return minmax_scale(1 /  arr, feature_range=(0,1))\n"
   ]
  },
  {
   "cell_type": "code",
   "execution_count": null,
   "id": "7b55845d",
   "metadata": {},
   "outputs": [],
   "source": [
    "# get the FEPNN SEM prediction per ligand.\n",
    "perts = {}\n",
    "for cats_file in glob.glob(f\"output/series_predictions/{tgt_to_run}_*\"):\n",
    "    \n",
    "    if \"network\" in cats_file or \"lomap\" in cats_file \\\n",
    "    or \"fepnn\" in cats_file or \"combined\" in cats_file:\n",
    "        continue\n",
    "    with open(cats_file, \"r\") as readfile:\n",
    "        reader = csv.reader(readfile)\n",
    "        next(reader)\n",
    "        for row in reader:\n",
    "            pert = row[0]\n",
    "            pred_sem = float(row[1])\n",
    "            \n",
    "            if not pert in perts:\n",
    "                perts[pert] = [pred_sem]\n",
    "            else:\n",
    "                perts[pert].append(pred_sem)\n",
    "                \n",
    "# compute the mean SEM prediction per pert.\n",
    "pert_names = []\n",
    "pert_sems = []\n",
    "for pert, sems in perts.items():\n",
    "    mean_sem = np.mean(sems)\n",
    "    pert_names.append(pert)\n",
    "    pert_sems.append(float(mean_sem))\n",
    "\n",
    "# now scale the sems to [0-1].\n",
    "pert_sems = scaleArray(np.array(pert_sems))\n",
    "\n",
    "for pert, val in zip(pert_names, pert_sems):\n",
    "    perts[pert] = val"
   ]
  },
  {
   "cell_type": "code",
   "execution_count": null,
   "id": "970609ab",
   "metadata": {
    "scrolled": false
   },
   "outputs": [],
   "source": [
    "written = []\n",
    "with open(\"tmp/links_file.in\", \"w\") as writefile:\n",
    "    writer = csv.writer(writefile, delimiter =\" \")\n",
    "    \n",
    "    for pert_name, value in perts.items():\n",
    "        # find the lomap filename for both ligs.\n",
    "        liga_lomap_name = None\n",
    "        ligb_lomap_name = None\n",
    "        for filename in glob.glob(\"tmp/lomap/inputs/*.sdf\"):\n",
    "            if \"lig_8\" in filename:\n",
    "                continue # exclude +1 ligands from tnks2 set.\n",
    "            if pert_name.split(\"~\")[0] in filename:\n",
    "                liga_lomap_name = filename.split(\"/\")[-1]\n",
    "            elif pert_name.split(\"~\")[1] in filename:\n",
    "                ligb_lomap_name = filename.split(\"/\")[-1]\n",
    "            \n",
    "            if liga_lomap_name and ligb_lomap_name:\n",
    "                if not [liga_lomap_name, ligb_lomap_name] in written:\n",
    "                    writer.writerow([liga_lomap_name, ligb_lomap_name, value])\n",
    "                    \n",
    "                    written.append([liga_lomap_name, ligb_lomap_name])\n",
    "                "
   ]
  },
  {
   "cell_type": "code",
   "execution_count": null,
   "id": "d81b0dfd",
   "metadata": {},
   "outputs": [],
   "source": [
    "path_to_ligands = f\"/home/jscheen/projects/FEPSPACE/fep_ref_ligands/{tgt_to_run}\"\n",
    "ligand_files = glob.glob(f\"{path_to_ligands}/*.sdf\")\n",
    "\n",
    "runner_work_dir = \"tmp/lomap\"\n",
    "if os.path.exists(runner_work_dir):\n",
    "    shutil.rmtree(runner_work_dir)\n",
    "\n",
    "\n",
    "ligands = []\n",
    "ligand_names = []\n",
    "\n",
    "for filepath in ligand_files:\n",
    "    \n",
    "    if \"8\" in filepath:\n",
    "        continue # exclude +1 ligands from tnks2 set.\n",
    "            \n",
    "    # append the molecule object to a list.\n",
    "    ligands.append(Chem.SDMolSupplier(filepath)[0])\n",
    "    \n",
    "    # append the molecule name to another list so that we can use the name of each molecule in our workflow.\n",
    "    ligand_names.append(filepath.split(\"/\")[-1].replace(\".sdf\",\"\"))\n",
    "\n",
    "tranformations_fepnn, lomap_scores_tnks2 = BSS.Align.generateNetwork(ligands, plot_network=True, names=ligand_names, \n",
    "                                                         work_dir=runner_work_dir,\n",
    "                                                         links_file=\"tmp/links_file.in\"\n",
    "                                                        )"
   ]
  },
  {
   "cell_type": "code",
   "execution_count": null,
   "id": "58839427",
   "metadata": {},
   "outputs": [],
   "source": [
    "writeTransformations(tranformations_fepnn, ligand_names, \n",
    "                     filename=f\"output/series_predictions/{tgt_to_run}_fepnn_perts.csv\")"
   ]
  },
  {
   "cell_type": "code",
   "execution_count": null,
   "id": "7452504e",
   "metadata": {},
   "outputs": [],
   "source": [
    "# write a file that contains the unique perts, 1 direction only. \n",
    "perts = []\n",
    "\n",
    "with open(\"output/series_predictions/tnks2_fepnn_perts.csv\", \"r\") as fepnn_file, \\\n",
    "        open(\"output/series_predictions/tnks2_lomap_perts.csv\", \"r\") as lomap_file:\n",
    "    reader_fepnn = csv.reader(fepnn_file)\n",
    "    reader_lomap = csv.reader(lomap_file)\n",
    "    \n",
    "    for pert in reader_fepnn:\n",
    "        perts.append(pert)\n",
    "    for pert in reader_lomap:\n",
    "        perts.append(pert)\n",
    "        \n",
    "filtered_perts = []\n",
    "filtered_out = 0\n",
    "for pert in perts:\n",
    "    \n",
    "    inv_pert = pert[0].split(\"~\")[1]+\"~\"+pert[0].split(\"~\")[0]\n",
    "    \n",
    "    if not pert[0] in filtered_perts and not inv_pert in filtered_perts:\n",
    "        filtered_perts.append(pert[0])\n",
    "    else:\n",
    "        print(pert[0])\n",
    "        filtered_out += 1\n",
    "print(f\"Removed {filtered_out} duplicate perts.\")"
   ]
  },
  {
   "cell_type": "code",
   "execution_count": null,
   "id": "ec02ebc3",
   "metadata": {},
   "outputs": [],
   "source": [
    "with open(f\"output/series_predictions/{tgt_to_run}_combined_perts.csv\", \"w\") as writefile:\n",
    "    writer = csv.writer(writefile)\n",
    "    for pert in filtered_perts:\n",
    "        writer.writerow([pert])\n",
    "print(f\"Total number of perturbations: {len(filtered_perts)}\")"
   ]
  },
  {
   "cell_type": "markdown",
   "id": "023068c2",
   "metadata": {},
   "source": [
    "# TYK2: errors/correlations"
   ]
  },
  {
   "cell_type": "code",
   "execution_count": null,
   "id": "25bf85b1",
   "metadata": {},
   "outputs": [],
   "source": [
    "# get the true TYK2 SEMs of ddGbind. We ran the fully-connected network for this set, so we have the data. \n",
    "import math\n",
    "\n",
    "# get the free and bound sems for the fully-connected TYK2 network that we've done the FEPs for.\n",
    "tyk2_sem_dict_free = {}\n",
    "tyk2_sem_dict_bound = {}\n",
    "\n",
    "for idx, row in pd.read_csv(\"input/testsets/tyk2/compiled_mbar_freenrgs.csv\").iterrows():\n",
    "    pert_name = \"_\".join(row[\"pert\"].split(\"_\")[:-1])\n",
    "    inv_pert_name = \"~\".join([pert_name.split(\"~\")[1], pert_name.split(\"~\")[0]])\n",
    "    sem = row[-1]\n",
    "    \n",
    "    if \"free\" in row[0]:\n",
    "        tyk2_sem_dict_free[pert_name] = sem\n",
    "        tyk2_sem_dict_free[inv_pert_name] = sem\n",
    "    elif \"bound\" in row[0]:\n",
    "        tyk2_sem_dict_bound[pert_name] = sem\n",
    "        tyk2_sem_dict_bound[inv_pert_name] = sem\n",
    "\n",
    "max_free_sem = np.nanmax(list(tyk2_sem_dict_free.values()))\n",
    "max_bound_sem = np.nanmax(list(tyk2_sem_dict_bound.values()))\n",
    "\n",
    "# replace all nans with the highest value.\n",
    "for k,v in tyk2_sem_dict_free.items():\n",
    "    if math.isnan(v):\n",
    "        tyk2_sem_dict_free[k] = max_free_sem\n",
    "for k,v in tyk2_sem_dict_bound.items():\n",
    "    if math.isnan(v):\n",
    "        tyk2_sem_dict_bound[k] = max_bound_sem"
   ]
  },
  {
   "cell_type": "code",
   "execution_count": null,
   "id": "d4af056f",
   "metadata": {},
   "outputs": [],
   "source": [
    "# now also compute ddg sems.\n",
    "tyk2_sem_dict_ddg = {}\n",
    "\n",
    "for pert, free_sem in tyk2_sem_dict_free.items():\n",
    "    bound_sem = tyk2_sem_dict_bound[pert]\n",
    "    \n",
    "    # propagate the error.\n",
    "    prop_sem = np.sqrt(free_sem**2 + bound_sem**2)\n",
    "    tyk2_sem_dict_ddg[pert] = prop_sem"
   ]
  },
  {
   "cell_type": "code",
   "execution_count": null,
   "id": "47e9eeb0",
   "metadata": {},
   "outputs": [],
   "source": [
    "# make the array for each SEM type. Order of perts can be retrieved from other array sources.\n",
    "tyk2_sems_free = []\n",
    "tyk2_sems_bound = []\n",
    "tyk2_sems_ddg = []\n",
    "\n",
    "for idx, row in fepnn_df.iterrows():\n",
    "    pert = row[\"pert_name\"].replace(\"lig_\", \"\")\n",
    "    tyk2_sems_free.append(tyk2_sem_dict_free[pert])\n",
    "    tyk2_sems_bound.append(tyk2_sem_dict_bound[pert])\n",
    "    tyk2_sems_ddg.append(tyk2_sem_dict_ddg[pert])"
   ]
  },
  {
   "cell_type": "markdown",
   "id": "535fc1be",
   "metadata": {},
   "source": [
    "## Generate stats."
   ]
  },
  {
   "cell_type": "code",
   "execution_count": null,
   "id": "f23b0e93",
   "metadata": {},
   "outputs": [],
   "source": [
    "# first scale the arrays to match ddGoffsets. If not then MUEs will be very high because distributions don't match.\n",
    "tyk2_sems_ddg_s = minmax_scale(fep_sems,  feature_range=(min(ddg_offsets), max(ddg_offsets)))\n",
    "# tyk2_sems_bound_s = minmax_scale(tyk2_sems_bound,  feature_range=(min(ddg_offsets), max(ddg_offsets)))\n",
    "# tyk2_sems_free_s = minmax_scale(tyk2_sems_free,  feature_range=(min(ddg_offsets), max(ddg_offsets)))\n",
    "\n",
    "fepspace_sems_s = minmax_scale(fepspace_sems,  feature_range=(min(ddg_offsets_matched), max(ddg_offsets_matched)))\n",
    "pred_sems_s = minmax_scale(pred_sems,  feature_range=(min(ddg_offsets), max(ddg_offsets)))\n",
    "lomap_scores_s = minmax_scale(1-np.array(lomap_scores),  feature_range=(min(ddg_offsets), max(ddg_offsets)))\n",
    "ecfp6_s = minmax_scale(1-fepnn_df[\"fp_similarity\"].values,  feature_range=(min(ddg_offsets), max(ddg_offsets)))\n",
    "random_vals = np.random.uniform(low=min(ddg_offsets), high=max(ddg_offsets), size=(len(ddg_offsets),))"
   ]
  },
  {
   "cell_type": "code",
   "execution_count": null,
   "id": "b1b6aaec",
   "metadata": {},
   "outputs": [],
   "source": [
    "r_vals, mue_vals, tau_vals = [], [], []\n",
    "for ref_arr in [tyk2_sems_ddg_s,\n",
    "#                 tyk2_sems_bound_s,\n",
    "#                 tyk2_sems_free_s,\n",
    "                fepspace_sems_s,\n",
    "                pred_sems_s,\n",
    "                lomap_scores_s,\n",
    "                ecfp6_s,\n",
    "                random_vals]:\n",
    "    try:\n",
    "        r_val, mue_val, tau_val = computeStats(np.log(ref_arr), np.log(ddg_offsets))\n",
    "    except ValueError:\n",
    "        r_val, mue_val, tau_val = computeStats(np.log(ref_arr), np.log(ddg_offsets_matched))\n",
    "    r_vals.append(r_val)\n",
    "    mue_vals.append(mue_val)\n",
    "    tau_vals.append(tau_val)\n"
   ]
  },
  {
   "cell_type": "code",
   "execution_count": null,
   "id": "6f8ce420",
   "metadata": {},
   "outputs": [],
   "source": [
    "stats_df = pd.DataFrame({\n",
    "    \"Pearson r\": r_vals,\n",
    "    \"MUE\": mue_vals,\n",
    "    \"Kendall $\\tau$\" : tau_vals,\n",
    "             }, index=[\n",
    "    \"$SEM_{\\overline{\\Delta\\Delta{G}}_{bind}}$\",\n",
    "#     \"$SEM_{\\overline{\\Delta{G}}_{bound}}$\",\n",
    "#     \"$SEM_{\\overline{\\Delta{G}}_{solvated}}$\",\n",
    "    \"FEP-Space $SEM_{\\overline{\\Delta{G}}_{solvated}}$\", \n",
    "    \"FEPNN $\\widehat{SEM}$\", \n",
    "    \"LOMAP-Score (Scaled)\",\n",
    "    \"ECFP6 similarity (Scaled)\",\n",
    "    \"Random\"\n",
    "                      ])\n",
    "stats_df"
   ]
  },
  {
   "cell_type": "code",
   "execution_count": null,
   "id": "291ffca5",
   "metadata": {},
   "outputs": [],
   "source": [
    "print(stats_df.to_latex(index=True, escape=False))"
   ]
  },
  {
   "cell_type": "markdown",
   "id": "6726deeb",
   "metadata": {},
   "source": [
    "# Scoring heuristics distributions"
   ]
  },
  {
   "cell_type": "code",
   "execution_count": null,
   "id": "71e9ad62",
   "metadata": {
    "scrolled": false
   },
   "outputs": [],
   "source": [
    "f, ax = plt.subplots(figsize=(10,7))\n",
    "\n",
    "\n",
    "sns.kdeplot(ddg_offsets, label=\"$\\Delta\\Delta$G$_{offset}$\", ax=ax)\n",
    "sns.kdeplot(tyk2_sems_ddg_s, label=\"$SEM_{\\overline{\\Delta\\Delta{G}}_{bind}}$\", ax=ax)\n",
    "sns.kdeplot(fepspace_sems_s, label=\"RBFE-Space $SEM_{\\overline{\\Delta{G}}_{solvated}}$\", ax=ax)\n",
    "sns.kdeplot(pred_sems_s, label=\"RBFENN $\\widehat{SEM}$\", ax=ax)\n",
    "sns.kdeplot(lomap_scores_s, label=\"LOMAP-Score (Scaled)\", ax=ax)\n",
    "sns.kdeplot(ecfp6_s, label=\"ECFP6 similarity (Scaled)\", ax=ax)\n",
    "sns.kdeplot(random_vals, label=\"Random\", ax=ax)\n",
    "\n",
    "\n",
    "ax.set_xlabel(\"Heuristic value / kcal$\\cdot$mol$^{-1}$\")\n",
    "ax.set_xlim(0, 20)\n",
    "\n",
    "ax.legend(ncol=2)\n",
    "plt.savefig(\"/home/jscheen/projects/FEPSPACE/figures/heuristic_densities.png\", dpi=300)\n",
    "\n",
    "plt.show()"
   ]
  },
  {
   "cell_type": "code",
   "execution_count": null,
   "id": "6a9a61a7",
   "metadata": {},
   "outputs": [],
   "source": []
  }
 ],
 "metadata": {
  "kernelspec": {
   "display_name": "Python 3",
   "language": "python",
   "name": "python3"
  },
  "language_info": {
   "codemirror_mode": {
    "name": "ipython",
    "version": 3
   },
   "file_extension": ".py",
   "mimetype": "text/x-python",
   "name": "python",
   "nbconvert_exporter": "python",
   "pygments_lexer": "ipython3",
   "version": "3.7.8"
  }
 },
 "nbformat": 4,
 "nbformat_minor": 5
}
