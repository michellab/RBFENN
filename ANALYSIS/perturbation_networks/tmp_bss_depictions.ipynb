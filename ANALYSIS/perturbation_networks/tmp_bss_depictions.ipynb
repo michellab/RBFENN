{
 "cells": [
  {
   "cell_type": "code",
   "execution_count": 86,
   "id": "feb324ce",
   "metadata": {},
   "outputs": [],
   "source": [
    "import matplotlib.image as _mpimg\n",
    "import matplotlib.pyplot as _plt\n",
    "import networkx as _nx\n",
    "import pydot as _pydot\n",
    "from rdkit.Chem import AllChem as _AllChem\n",
    "from rdkit.Chem import Draw as _Draw\n",
    "import os as _os\n",
    "import warnings as _warnings\n",
    "with _warnings.catch_warnings():\n",
    "    _warnings.filterwarnings(\"ignore\")\n",
    "    from rdkit import Chem as _Chem\n",
    "    from rdkit.Chem import rdFMCS as _rdFMCS\n",
    "    from rdkit.Chem import rdmolops as _rdmolops\n",
    "    from rdkit.Chem import rdchem as _rdchem\n",
    "    from rdkit import RDLogger as _RDLogger\n",
    "\n",
    "    # Disable RDKit warnings.\n",
    "    _RDLogger.DisableLog('rdApp.*')\n",
    "# Set the DPI to make the network look nice.\n",
    "_plt.rcParams[\"figure.dpi\"]= 250\n",
    "\n",
    "work_dir = \"tmp/lomap_workdir\"\n",
    "tgt = \"cats_5\"\n"
   ]
  },
  {
   "cell_type": "code",
   "execution_count": 87,
   "id": "9bf0af66",
   "metadata": {},
   "outputs": [],
   "source": [
    "import glob\n",
    "import BioSimSpace as BSS\n",
    "# Make directory for output images.\n",
    "_os.makedirs(work_dir + \"/images\", exist_ok=True)\n",
    "\n",
    "path_to_ligands = f\"/home/jscheen/projects/FEPSPACE/fep_ref_ligands/{tgt}\"\n",
    "ligand_files = glob.glob(f\"{path_to_ligands}/*.mol2\")\n",
    "\n",
    "molecules = []\n",
    "names = []\n",
    "\n",
    "for filepath in ligand_files:\n",
    "    # append the molecule object to a list.\n",
    "    molecules.append(BSS.IO.readMolecules(filepath)[0])\n",
    "\n",
    "    # append the molecule name to another list so that we can use the name of each molecule in our workflow.\n",
    "    names.append(filepath.split(\"/\")[-1].replace(\".mol2\",\"\"))"
   ]
  },
  {
   "cell_type": "code",
   "execution_count": 88,
   "id": "29a4c3bd",
   "metadata": {},
   "outputs": [],
   "source": [
    "edges = [(0,1),(0,2),(1,2)]\n",
    "scores = [0.5, 0.5, 0.5]\n",
    "nodes = [0, 1, 2]"
   ]
  },
  {
   "cell_type": "code",
   "execution_count": 89,
   "id": "9ce9abe7",
   "metadata": {},
   "outputs": [
    {
     "ename": "OSError",
     "evalue": "Bad input file tmp/lomap_workdir/inputs/000_CatS_184.mol2",
     "output_type": "error",
     "traceback": [
      "\u001b[0;31m---------------------------------------------------------------------------\u001b[0m",
      "\u001b[0;31mOSError\u001b[0m                                   Traceback (most recent call last)",
      "\u001b[0;32m/tmp/ipykernel_29578/678309852.py\u001b[0m in \u001b[0;36m<module>\u001b[0;34m\u001b[0m\n\u001b[1;32m      3\u001b[0m \u001b[0;32mfor\u001b[0m \u001b[0mx\u001b[0m\u001b[0;34m,\u001b[0m \u001b[0mname\u001b[0m \u001b[0;32min\u001b[0m \u001b[0mzip\u001b[0m\u001b[0;34m(\u001b[0m\u001b[0mrange\u001b[0m\u001b[0;34m(\u001b[0m\u001b[0;36m0\u001b[0m\u001b[0;34m,\u001b[0m \u001b[0mlen\u001b[0m\u001b[0;34m(\u001b[0m\u001b[0mmolecules\u001b[0m\u001b[0;34m)\u001b[0m\u001b[0;34m)\u001b[0m\u001b[0;34m,\u001b[0m \u001b[0mnames\u001b[0m\u001b[0;34m)\u001b[0m\u001b[0;34m:\u001b[0m\u001b[0;34m\u001b[0m\u001b[0;34m\u001b[0m\u001b[0m\n\u001b[1;32m      4\u001b[0m     \u001b[0mfile\u001b[0m \u001b[0;34m=\u001b[0m \u001b[0;34mf\"{work_dir}/inputs/{x:03d}_{name}.mol2\"\u001b[0m\u001b[0;34m\u001b[0m\u001b[0;34m\u001b[0m\u001b[0m\n\u001b[0;32m----> 5\u001b[0;31m     \u001b[0mrdmols\u001b[0m\u001b[0;34m.\u001b[0m\u001b[0mappend\u001b[0m\u001b[0;34m(\u001b[0m\u001b[0m_Chem\u001b[0m\u001b[0;34m.\u001b[0m\u001b[0mrdmolfiles\u001b[0m\u001b[0;34m.\u001b[0m\u001b[0mMolFromMol2File\u001b[0m\u001b[0;34m(\u001b[0m\u001b[0mfile\u001b[0m\u001b[0;34m,\u001b[0m \u001b[0msanitize\u001b[0m\u001b[0;34m=\u001b[0m\u001b[0;32mFalse\u001b[0m\u001b[0;34m,\u001b[0m \u001b[0mremoveHs\u001b[0m\u001b[0;34m=\u001b[0m\u001b[0;32mFalse\u001b[0m\u001b[0;34m)\u001b[0m\u001b[0;34m)\u001b[0m\u001b[0;34m\u001b[0m\u001b[0;34m\u001b[0m\u001b[0m\n\u001b[0m\u001b[1;32m      6\u001b[0m \u001b[0;34m\u001b[0m\u001b[0m\n\u001b[1;32m      7\u001b[0m \u001b[0;34m\u001b[0m\u001b[0m\n",
      "\u001b[0;31mOSError\u001b[0m: Bad input file tmp/lomap_workdir/inputs/000_CatS_184.mol2"
     ]
    }
   ],
   "source": [
    "        \n",
    "# 1) Loop over each molecule and load into RDKit.\n",
    "rdmols = []\n",
    "for x, name in zip(range(0, len(molecules)), names):\n",
    "    file = f\"{work_dir}/inputs/{x:03d}_{name}.mol2\"\n",
    "    rdmols.append(_Chem.rdmolfiles.MolFromMol2File(file, sanitize=False, removeHs=False))\n",
    "\n",
    "\n",
    "# 2) Find the MCS of the molecules to use as a template.\n",
    "rdmols = [_Chem.RemoveHs(mol) for mol in rdmols]\n",
    "\n",
    "template = _Chem.MolFromSmarts(_rdFMCS.FindMCS(rdmols, timeout=10, \n",
    "                                    atomCompare=_rdFMCS.AtomCompare.CompareAny,\n",
    "                                    bondCompare=_rdFMCS.BondCompare.CompareAny,\n",
    "                                    matchValences=False,\n",
    "                                    ringMatchesRingOnly=True,\n",
    "                                    completeRingsOnly=True,\n",
    "                                    matchChiralTag=False\n",
    "                                              ).smartsString)\n",
    "_AllChem.Compute2DCoords(template)\n",
    "\n",
    "\n",
    "template\n",
    "    "
   ]
  },
  {
   "cell_type": "code",
   "execution_count": 85,
   "id": "11b4dee2",
   "metadata": {},
   "outputs": [
    {
     "data": {
      "image/png": "[encoded data removed]",
      "text/plain": [
       "<rdkit.Chem.rdchem.Mol at 0x7fbe28692760>"
      ]
     },
     "execution_count": 85,
     "metadata": {},
     "output_type": "execute_result"
    }
   ],
   "source": [
    "# 3) Load all ligands, make 2D depiction aligned to the template and save to file.\n",
    "\n",
    "for x, mol in enumerate(rdmols):\n",
    "    mol.UpdatePropertyCache(strict=False)\n",
    "    _AllChem.Compute2DCoords(mol)\n",
    "    _AllChem.GenerateDepictionMatching2DStructure(mol, template)\n",
    "\n",
    "    mol = _Chem.RemoveHs(mol)\n",
    "    _rdmolops.RemoveStereochemistry(mol)\n",
    "    _Draw.MolToFile(mol, f\"{work_dir}/images/{x:03d}.png\")\n",
    "\n",
    "mol"
   ]
  },
  {
   "cell_type": "code",
   "execution_count": null,
   "id": "3efceb4b",
   "metadata": {},
   "outputs": [],
   "source": []
  }
 ],
 "metadata": {
  "kernelspec": {
   "display_name": "Python 3",
   "language": "python",
   "name": "python3"
  },
  "language_info": {
   "codemirror_mode": {
    "name": "ipython",
    "version": 3
   },
   "file_extension": ".py",
   "mimetype": "text/x-python",
   "name": "python",
   "nbconvert_exporter": "python",
   "pygments_lexer": "ipython3",
   "version": "3.7.8"
  }
 },
 "nbformat": 4,
 "nbformat_minor": 5
}
