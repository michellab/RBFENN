{
 "cells": [
  {
   "cell_type": "code",
   "execution_count": 1,
   "id": "d5e8d0d6",
   "metadata": {},
   "outputs": [
    {
     "name": "stderr",
     "output_type": "stream",
     "text": [
      "/home/nichrun/miniconda3/envs/biosimspace/lib/python3.9/site-packages/numpy/core/getlimits.py:499: UserWarning: The value of the smallest subnormal for <class 'numpy.float64'> type is zero.\n",
      "  setattr(self, word, getattr(machar, word).flat[0])\n",
      "/home/nichrun/miniconda3/envs/biosimspace/lib/python3.9/site-packages/numpy/core/getlimits.py:89: UserWarning: The value of the smallest subnormal for <class 'numpy.float64'> type is zero.\n",
      "  return self._float_to_str(self.smallest_subnormal)\n",
      "/home/nichrun/miniconda3/envs/biosimspace/lib/python3.9/site-packages/numpy/core/getlimits.py:499: UserWarning: The value of the smallest subnormal for <class 'numpy.float32'> type is zero.\n",
      "  setattr(self, word, getattr(machar, word).flat[0])\n",
      "/home/nichrun/miniconda3/envs/biosimspace/lib/python3.9/site-packages/numpy/core/getlimits.py:89: UserWarning: The value of the smallest subnormal for <class 'numpy.float32'> type is zero.\n",
      "  return self._float_to_str(self.smallest_subnormal)\n",
      "Warning: importing 'simtk.openmm' is deprecated.  Import 'openmm' instead.\n"
     ]
    }
   ],
   "source": [
    "import BioSimSpace as BSS\n",
    "import glob"
   ]
  },
  {
   "cell_type": "code",
   "execution_count": 2,
   "id": "5b8f53e9",
   "metadata": {},
   "outputs": [],
   "source": [
    "#BSS\n",
    "#ligands = [BSS.IO.readMolecules(x) for x in glob.glob(\"ClusterMolecules10/*.sdf\")]"
   ]
  },
  {
   "cell_type": "code",
   "execution_count": 3,
   "id": "d5bfe37e",
   "metadata": {},
   "outputs": [
    {
     "data": {
      "text/plain": [
       "['ClusterMolecules10/13655.sdf',\n",
       " 'ClusterMolecules10/13659.sdf',\n",
       " 'ClusterMolecules10/13384.sdf',\n",
       " 'ClusterMolecules10/13385.sdf',\n",
       " 'ClusterMolecules10/13209.sdf',\n",
       " 'ClusterMolecules10/16722.sdf',\n",
       " 'ClusterMolecules10/13664.sdf',\n",
       " 'ClusterMolecules10/13654.sdf',\n",
       " 'ClusterMolecules10/13210.sdf',\n",
       " 'ClusterMolecules10/13662.sdf']"
      ]
     },
     "execution_count": 3,
     "metadata": {},
     "output_type": "execute_result"
    }
   ],
   "source": [
    "from rdkit import Chem\n",
    "\n",
    "ligands = [Chem.SDMolSupplier(x)[0] for x in glob.glob(\"ClusterMolecules10/*.sdf\")]\n",
    "ligand_names = [x for x in glob.glob(\"ClusterMolecules10/*.sdf\")]\n",
    "ligand_names"
   ]
  },
  {
   "cell_type": "code",
   "execution_count": 4,
   "id": "92cd68c1",
   "metadata": {},
   "outputs": [],
   "source": [
    "import csv\n",
    "true_perts = []\n",
    "true_sems = []\n",
    "\n",
    "with open(\"cluster_pair_preds.csv\", \"r\") as readfile:\n",
    "    reader = csv.reader(readfile)\n",
    "    next(reader)\n",
    "    for row in reader:\n",
    "        true_perts.append([row[0], row[1]])\n",
    "        true_sems.append(row[-1])"
   ]
  },
  {
   "cell_type": "code",
   "execution_count": null,
   "id": "a2fb839d",
   "metadata": {},
   "outputs": [],
   "source": []
  },
  {
   "cell_type": "code",
   "execution_count": 5,
   "id": "f41271ac",
   "metadata": {},
   "outputs": [],
   "source": [
    "with open(\"links_file.in\", \"w\") as writefile:\n",
    "    writer = csv.writer(writefile, delimiter =\" \")\n",
    "    for (a,b), value in zip(true_perts, true_sems):\n",
    "        \n",
    "        writer.writerow([a, b, value])"
   ]
  },
  {
   "cell_type": "code",
   "execution_count": null,
   "id": "5122cec6",
   "metadata": {},
   "outputs": [],
   "source": []
  },
  {
   "cell_type": "code",
   "execution_count": 6,
   "id": "5fca3f4f",
   "metadata": {},
   "outputs": [
    {
     "ename": "OSError",
     "evalue": "File error: Bad output file /home/nichrun/Documents/data_driven_fep_reliabilities/CLI/runner_work_dir/inputs/000_ClusterMolecules10/13655.sdf.sdf",
     "output_type": "error",
     "traceback": [
      "\u001b[0;31m---------------------------------------------------------------------------\u001b[0m",
      "\u001b[0;31mOSError\u001b[0m                                   Traceback (most recent call last)",
      "Input \u001b[0;32mIn [6]\u001b[0m, in \u001b[0;36m<cell line: 1>\u001b[0;34m()\u001b[0m\n\u001b[0;32m----> 1\u001b[0m tranformations, lomap_scores \u001b[38;5;241m=\u001b[39m \u001b[43mBSS\u001b[49m\u001b[38;5;241;43m.\u001b[39;49m\u001b[43mAlign\u001b[49m\u001b[38;5;241;43m.\u001b[39;49m\u001b[43mgenerateNetwork\u001b[49m\u001b[43m(\u001b[49m\u001b[43mligands\u001b[49m\u001b[43m,\u001b[49m\u001b[43m \u001b[49m\u001b[43mplot_network\u001b[49m\u001b[38;5;241;43m=\u001b[39;49m\u001b[38;5;28;43;01mTrue\u001b[39;49;00m\u001b[43m,\u001b[49m\u001b[43m \u001b[49m\u001b[43mnames\u001b[49m\u001b[38;5;241;43m=\u001b[39;49m\u001b[43mligand_names\u001b[49m\u001b[43m,\u001b[49m\u001b[43m \u001b[49m\n\u001b[1;32m      2\u001b[0m \u001b[43m                                                         \u001b[49m\u001b[43mwork_dir\u001b[49m\u001b[38;5;241;43m=\u001b[39;49m\u001b[38;5;124;43m\"\u001b[39;49m\u001b[38;5;124;43mrunner_work_dir\u001b[39;49m\u001b[38;5;124;43m\"\u001b[39;49m\u001b[43m,\u001b[49m\n\u001b[1;32m      3\u001b[0m \u001b[43m                                                         \u001b[49m\u001b[43mlinks_file\u001b[49m\u001b[38;5;241;43m=\u001b[39;49m\u001b[38;5;124;43m\"\u001b[39;49m\u001b[38;5;124;43mlinks_file.in\u001b[39;49m\u001b[38;5;124;43m\"\u001b[39;49m\n\u001b[1;32m      4\u001b[0m \u001b[43m                                                        \u001b[49m\u001b[43m)\u001b[49m\n",
      "File \u001b[0;32m~/miniconda3/envs/biosimspace/lib/python3.9/site-packages/BioSimSpace/Align/_align.py:300\u001b[0m, in \u001b[0;36mgenerateNetwork\u001b[0;34m(molecules, names, work_dir, plot_network, links_file, property_map, n_edges_forced)\u001b[0m\n\u001b[1;32m    298\u001b[0m file_name \u001b[38;5;241m=\u001b[39m \u001b[38;5;124mf\u001b[39m\u001b[38;5;124m\"\u001b[39m\u001b[38;5;132;01m{\u001b[39;00mx\u001b[38;5;132;01m:\u001b[39;00m\u001b[38;5;124m03d\u001b[39m\u001b[38;5;132;01m}\u001b[39;00m\u001b[38;5;124m_\u001b[39m\u001b[38;5;132;01m{\u001b[39;00mname\u001b[38;5;132;01m}\u001b[39;00m\u001b[38;5;124m.sdf\u001b[39m\u001b[38;5;124m\"\u001b[39m\n\u001b[1;32m    299\u001b[0m links_names[name] \u001b[38;5;241m=\u001b[39m file_name\n\u001b[0;32m--> 300\u001b[0m writer \u001b[38;5;241m=\u001b[39m  \u001b[43m_Chem\u001b[49m\u001b[38;5;241;43m.\u001b[39;49m\u001b[43mSDWriter\u001b[49m\u001b[43m(\u001b[49m\u001b[43mwork_dir\u001b[49m\u001b[38;5;241;43m+\u001b[39;49m\u001b[38;5;124;43m\"\u001b[39;49m\u001b[38;5;124;43m/inputs/\u001b[39;49m\u001b[38;5;124;43m\"\u001b[39;49m\u001b[43m \u001b[49m\u001b[38;5;241;43m+\u001b[39;49m\u001b[43m \u001b[49m\u001b[43mfile_name\u001b[49m\u001b[43m)\u001b[49m\n\u001b[1;32m    301\u001b[0m writer\u001b[38;5;241m.\u001b[39mwrite(molecule)\n\u001b[1;32m    302\u001b[0m writer\u001b[38;5;241m.\u001b[39mclose()\n",
      "\u001b[0;31mOSError\u001b[0m: File error: Bad output file /home/nichrun/Documents/data_driven_fep_reliabilities/CLI/runner_work_dir/inputs/000_ClusterMolecules10/13655.sdf.sdf"
     ]
    },
    {
     "name": "stdout",
     "output_type": "stream",
     "text": [
      "\n",
      "==============================================================\n",
      "Sending anonymous Sire usage statistics to http://siremol.org.\n",
      "For more information, see http://siremol.org/analytics\n",
      "To disable, set the environment variable 'SIRE_DONT_PHONEHOME' to 1\n",
      "To see the information sent, set the environment variable \n",
      "SIRE_VERBOSE_PHONEHOME equal to 1. To silence this message, set\n",
      "the environment variable SIRE_SILENT_PHONEHOME to 1.\n",
      "==============================================================\n",
      "\n"
     ]
    }
   ],
   "source": [
    "tranformations, lomap_scores = BSS.Align.generateNetwork(ligands, plot_network=True, names=ligand_names, \n",
    "                                                         work_dir=\"runner_work_dir\",\n",
    "                                                         links_file=\"links_file.in\"\n",
    "                                                        )"
   ]
  },
  {
   "cell_type": "code",
   "execution_count": null,
   "id": "d6d406c2",
   "metadata": {},
   "outputs": [],
   "source": []
  }
 ],
 "metadata": {
  "kernelspec": {
   "display_name": "Python 3 (ipykernel)",
   "language": "python",
   "name": "python3"
  },
  "language_info": {
   "codemirror_mode": {
    "name": "ipython",
    "version": 3
   },
   "file_extension": ".py",
   "mimetype": "text/x-python",
   "name": "python",
   "nbconvert_exporter": "python",
   "pygments_lexer": "ipython3",
   "version": "3.9.13"
  }
 },
 "nbformat": 4,
 "nbformat_minor": 5
}
