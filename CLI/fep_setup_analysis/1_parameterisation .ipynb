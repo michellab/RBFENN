{
 "cells": [
  {
   "cell_type": "code",
   "execution_count": 1,
   "id": "445eea12",
   "metadata": {},
   "outputs": [],
   "source": [
    "# Run using data_driven_fep_rel conda env\n",
    "# Ideally swap to biosimspace-dev conda env\n",
    "#Need to set up amber in biosimspace-dev"
   ]
  },
  {
   "cell_type": "code",
   "execution_count": 2,
   "id": "17c7e8a0",
   "metadata": {
    "scrolled": true
   },
   "outputs": [
    {
     "name": "stdout",
     "output_type": "stream",
     "text": [
      "/usr/local/gromacs/bin/gmx\n",
      "\n",
      "==============================================================\n",
      "Sending anonymous Sire usage statistics to http://siremol.org.\n",
      "For more information, see http://siremol.org/analytics\n",
      "To disable, set the environment variable 'SIRE_DONT_PHONEHOME' to 1\n",
      "To see the information sent, set the environment variable \n",
      "SIRE_VERBOSE_PHONEHOME equal to 1. To silence this message, set\n",
      "the environment variable SIRE_SILENT_PHONEHOME to 1.\n",
      "==============================================================\n",
      "\n"
     ]
    }
   ],
   "source": [
    "import BioSimSpace as BSS\n",
    "print(BSS._gmx_exe) #Check to ensure path to gromacs is present"
   ]
  },
  {
   "cell_type": "markdown",
   "id": "2b4d872d",
   "metadata": {},
   "source": [
    "# Get molecules from cluster - sdf file\n",
    "Note: may need to convert sdf to mol2 <br>or<br>\n",
    "smiles --> mol object --> geometry optimisation --> mol2"
   ]
  },
  {
   "cell_type": "code",
   "execution_count": 3,
   "id": "63a60b12",
   "metadata": {},
   "outputs": [
    {
     "data": {
      "text/plain": [
       "['../clusters/cls-22-06-27-2/10920.sdf',\n",
       " '../clusters/cls-22-06-27-2/14330.sdf',\n",
       " '../clusters/cls-22-06-27-2/15696.sdf',\n",
       " '../clusters/cls-22-06-27-2/15694.sdf',\n",
       " '../clusters/cls-22-06-27-2/17334.sdf',\n",
       " '../clusters/cls-22-06-27-2/14336.sdf',\n",
       " '../clusters/cls-22-06-27-2/16393.sdf',\n",
       " '../clusters/cls-22-06-27-2/14347.sdf',\n",
       " '../clusters/cls-22-06-27-2/14349.sdf',\n",
       " '../clusters/cls-22-06-27-2/14348.sdf',\n",
       " '../clusters/cls-22-06-27-2/17333.sdf',\n",
       " '../clusters/cls-22-06-27-2/15697.sdf']"
      ]
     },
     "execution_count": 3,
     "metadata": {},
     "output_type": "execute_result"
    }
   ],
   "source": [
    "import glob\n",
    "\n",
    "path_to_cluster = \"../clusters/cls-22-06-27-2/\"\n",
    "sdf_array = glob.glob(path_to_cluster+\"*.sdf\")\n",
    "sdf_array"
   ]
  },
  {
   "cell_type": "code",
   "execution_count": 4,
   "id": "872b3bdc",
   "metadata": {},
   "outputs": [],
   "source": [
    "#from openbabel import pybel\n",
    "#Note: this cell may need to convert sdf to mol2"
   ]
  },
  {
   "cell_type": "markdown",
   "id": "48f9d17a",
   "metadata": {},
   "source": [
    "# Get molecules from cluster - mol2 file"
   ]
  },
  {
   "cell_type": "code",
   "execution_count": 7,
   "id": "ec94eab8",
   "metadata": {},
   "outputs": [
    {
     "data": {
      "text/plain": [
       "[[<BioSimSpace.Molecule: nAtoms=67, nResidues=1>, '14336'],\n",
       " [<BioSimSpace.Molecule: nAtoms=59, nResidues=1>, '14347'],\n",
       " [<BioSimSpace.Molecule: nAtoms=55, nResidues=1>, '17333'],\n",
       " [<BioSimSpace.Molecule: nAtoms=56, nResidues=1>, '14349'],\n",
       " [<BioSimSpace.Molecule: nAtoms=65, nResidues=1>, '15696'],\n",
       " [<BioSimSpace.Molecule: nAtoms=60, nResidues=1>, '14348'],\n",
       " [<BioSimSpace.Molecule: nAtoms=65, nResidues=1>, '15697'],\n",
       " [<BioSimSpace.Molecule: nAtoms=69, nResidues=1>, '15694'],\n",
       " [<BioSimSpace.Molecule: nAtoms=68, nResidues=1>, '14330'],\n",
       " [<BioSimSpace.Molecule: nAtoms=67, nResidues=1>, '10920'],\n",
       " [<BioSimSpace.Molecule: nAtoms=54, nResidues=1>, '17334'],\n",
       " [<BioSimSpace.Molecule: nAtoms=64, nResidues=1>, '16393']]"
      ]
     },
     "execution_count": 7,
     "metadata": {},
     "output_type": "execute_result"
    }
   ],
   "source": [
    "path_to_cluster = \"../clusters/cls-22-06-27-2/\"\n",
    "mol2_array = glob.glob(path_to_cluster+\"*.mol2\")\n",
    "mol_names = [x.split(\"/\")[-1].split(\".\")[0] for x in mol2_array]\n",
    "\n",
    "BSS_name_tuples = [[BSS.IO.readMolecules(mol)[0], name] for mol,name in zip(mol2_array, mol_names)]\n",
    "BSS_name_tuples"
   ]
  },
  {
   "cell_type": "markdown",
   "id": "52f91292",
   "metadata": {},
   "source": [
    "# Parameterise"
   ]
  },
  {
   "cell_type": "code",
   "execution_count": 8,
   "id": "213a1aa9",
   "metadata": {},
   "outputs": [],
   "source": [
    "for tup in BSS_name_tuples:\n",
    "    tup[0] = BSS.Parameters.gaff2(tup[0])\n",
    "    \n",
    "for tup in BSS_name_tuples:\n",
    "    tup[0] = tup[0].getMolecule()"
   ]
  },
  {
   "cell_type": "code",
   "execution_count": null,
   "id": "e6f2cc88",
   "metadata": {},
   "outputs": [],
   "source": [
    "# Save paramaterised molecules in same cluster dir\n"
   ]
  },
  {
   "cell_type": "markdown",
   "id": "96990b89",
   "metadata": {},
   "source": [
    "# Save"
   ]
  },
  {
   "cell_type": "code",
   "execution_count": 9,
   "id": "917729d5",
   "metadata": {},
   "outputs": [],
   "source": [
    "for mol, name in BSS_name_tuples:\n",
    "    BSS.IO.saveMolecules(path_to_cluster+name, mol, [\"PRM7\",\"RST7\"])"
   ]
  },
  {
   "cell_type": "code",
   "execution_count": 10,
   "id": "33bdf1b0",
   "metadata": {},
   "outputs": [
    {
     "name": "stdout",
     "output_type": "stream",
     "text": [
      "'1_parameterisation .ipynb'   2_fep_transformations.ipynb\r\n"
     ]
    }
   ],
   "source": [
    "! ls"
   ]
  },
  {
   "cell_type": "code",
   "execution_count": null,
   "id": "b4a77cf0",
   "metadata": {},
   "outputs": [],
   "source": []
  }
 ],
 "metadata": {
  "kernelspec": {
   "display_name": "Python 3 (ipykernel)",
   "language": "python",
   "name": "python3"
  },
  "language_info": {
   "codemirror_mode": {
    "name": "ipython",
    "version": 3
   },
   "file_extension": ".py",
   "mimetype": "text/x-python",
   "name": "python",
   "nbconvert_exporter": "python",
   "pygments_lexer": "ipython3",
   "version": "3.9.13"
  }
 },
 "nbformat": 4,
 "nbformat_minor": 5
}
