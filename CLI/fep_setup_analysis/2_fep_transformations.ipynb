{
 "cells": [
  {
   "cell_type": "code",
   "execution_count": 1,
   "id": "91ff816a",
   "metadata": {},
   "outputs": [],
   "source": [
    "# Run using biosimspace-dev conda env"
   ]
  },
  {
   "cell_type": "code",
   "execution_count": 2,
   "id": "2f0f8987",
   "metadata": {
    "scrolled": false
   },
   "outputs": [
    {
     "name": "stdout",
     "output_type": "stream",
     "text": [
      "\n",
      "==============================================================\n",
      "Sending anonymous Sire usage statistics to http://siremol.org.\n",
      "For more information, see http://siremol.org/analytics\n",
      "To disable, set the environment variable 'SIRE_DONT_PHONEHOME' to 1\n",
      "To see the information sent, set the environment variable \n",
      "SIRE_VERBOSE_PHONEHOME equal to 1. To silence this message, set\n",
      "the environment variable SIRE_SILENT_PHONEHOME to 1.\n",
      "==============================================================\n",
      "\n"
     ]
    },
    {
     "name": "stderr",
     "output_type": "stream",
     "text": [
      "/home/nichrun/miniconda3/envs/biosimspace-dev/lib/python3.9/site-packages/numpy/core/getlimits.py:499: UserWarning: The value of the smallest subnormal for <class 'numpy.float64'> type is zero.\n",
      "  setattr(self, word, getattr(machar, word).flat[0])\n",
      "/home/nichrun/miniconda3/envs/biosimspace-dev/lib/python3.9/site-packages/numpy/core/getlimits.py:89: UserWarning: The value of the smallest subnormal for <class 'numpy.float64'> type is zero.\n",
      "  return self._float_to_str(self.smallest_subnormal)\n",
      "/home/nichrun/miniconda3/envs/biosimspace-dev/lib/python3.9/site-packages/numpy/core/getlimits.py:499: UserWarning: The value of the smallest subnormal for <class 'numpy.float32'> type is zero.\n",
      "  setattr(self, word, getattr(machar, word).flat[0])\n",
      "/home/nichrun/miniconda3/envs/biosimspace-dev/lib/python3.9/site-packages/numpy/core/getlimits.py:89: UserWarning: The value of the smallest subnormal for <class 'numpy.float32'> type is zero.\n",
      "  return self._float_to_str(self.smallest_subnormal)\n",
      "Warning: importing 'simtk.openmm' is deprecated.  Import 'openmm' instead.\n",
      "/home/nichrun/miniconda3/envs/biosimspace-dev/lib/python3.9/site-packages/BioSimSpace/Process/_somd.py:307: UserWarning: No simulation box found. Assuming gas phase simulation.\n",
      "  _warnings.warn(\"No simulation box found. Assuming gas phase simulation.\")\n",
      "/home/nichrun/miniconda3/envs/biosimspace-dev/lib/python3.9/site-packages/BioSimSpace/Process/_somd.py:307: UserWarning: No simulation box found. Assuming gas phase simulation.\n",
      "  _warnings.warn(\"No simulation box found. Assuming gas phase simulation.\")\n",
      "/home/nichrun/miniconda3/envs/biosimspace-dev/lib/python3.9/site-packages/BioSimSpace/Process/_somd.py:307: UserWarning: No simulation box found. Assuming gas phase simulation.\n",
      "  _warnings.warn(\"No simulation box found. Assuming gas phase simulation.\")\n",
      "/home/nichrun/miniconda3/envs/biosimspace-dev/lib/python3.9/site-packages/BioSimSpace/Process/_somd.py:307: UserWarning: No simulation box found. Assuming gas phase simulation.\n",
      "  _warnings.warn(\"No simulation box found. Assuming gas phase simulation.\")\n",
      "/home/nichrun/miniconda3/envs/biosimspace-dev/lib/python3.9/site-packages/BioSimSpace/Process/_somd.py:307: UserWarning: No simulation box found. Assuming gas phase simulation.\n",
      "  _warnings.warn(\"No simulation box found. Assuming gas phase simulation.\")\n",
      "/home/nichrun/miniconda3/envs/biosimspace-dev/lib/python3.9/site-packages/BioSimSpace/Process/_somd.py:307: UserWarning: No simulation box found. Assuming gas phase simulation.\n",
      "  _warnings.warn(\"No simulation box found. Assuming gas phase simulation.\")\n",
      "/home/nichrun/miniconda3/envs/biosimspace-dev/lib/python3.9/site-packages/BioSimSpace/Process/_somd.py:307: UserWarning: No simulation box found. Assuming gas phase simulation.\n",
      "  _warnings.warn(\"No simulation box found. Assuming gas phase simulation.\")\n"
     ]
    }
   ],
   "source": [
    "import BioSimSpace as BSS"
   ]
  },
  {
   "cell_type": "markdown",
   "id": "94883609",
   "metadata": {},
   "source": [
    "# Get paramaterised molecules"
   ]
  },
  {
   "cell_type": "code",
   "execution_count": 3,
   "id": "29cc6c60",
   "metadata": {},
   "outputs": [],
   "source": [
    "import glob\n",
    "path_to_cluster = \"../clusters/cls-22-06-27-2/\"\n",
    "num_array = [x.split(\"/\")[-1].split(\".\")[0] for x in glob.glob(path_to_cluster+\"*.rst7\")]\n",
    "\n",
    "molecules_amber = {}\n",
    "for num in num_array:\n",
    "    molecules_amber[int(num)] = (BSS.IO.readMolecules([f\"{path_to_cluster}{num}.rst7\", f\"{path_to_cluster}{num}.prm7\"]).getMolecule(0))"
   ]
  },
  {
   "cell_type": "code",
   "execution_count": 5,
   "id": "efb10e04",
   "metadata": {},
   "outputs": [
    {
     "data": {
      "text/plain": [
       "{15696: <BioSimSpace.Molecule: nAtoms=65, nResidues=1>,\n",
       " 15694: <BioSimSpace.Molecule: nAtoms=69, nResidues=1>,\n",
       " 15697: <BioSimSpace.Molecule: nAtoms=65, nResidues=1>,\n",
       " 14330: <BioSimSpace.Molecule: nAtoms=68, nResidues=1>,\n",
       " 16393: <BioSimSpace.Molecule: nAtoms=64, nResidues=1>,\n",
       " 14336: <BioSimSpace.Molecule: nAtoms=67, nResidues=1>,\n",
       " 10920: <BioSimSpace.Molecule: nAtoms=67, nResidues=1>,\n",
       " 17333: <BioSimSpace.Molecule: nAtoms=55, nResidues=1>,\n",
       " 14347: <BioSimSpace.Molecule: nAtoms=59, nResidues=1>,\n",
       " 14348: <BioSimSpace.Molecule: nAtoms=60, nResidues=1>,\n",
       " 17334: <BioSimSpace.Molecule: nAtoms=54, nResidues=1>,\n",
       " 14349: <BioSimSpace.Molecule: nAtoms=56, nResidues=1>}"
      ]
     },
     "execution_count": 5,
     "metadata": {},
     "output_type": "execute_result"
    }
   ],
   "source": [
    "molecules_amber"
   ]
  },
  {
   "cell_type": "markdown",
   "id": "82dd27bc",
   "metadata": {},
   "source": [
    "# Create lambda files"
   ]
  },
  {
   "cell_type": "code",
   "execution_count": 7,
   "id": "71b8607f",
   "metadata": {},
   "outputs": [
    {
     "data": {
      "text/plain": [
       "[(10920, 14330),\n",
       " (10920, 14347),\n",
       " (10920, 15696),\n",
       " (16393, 15697),\n",
       " (14349, 14348),\n",
       " (16393, 17333),\n",
       " (15696, 14347),\n",
       " (17334, 14336)]"
      ]
     },
     "execution_count": 7,
     "metadata": {},
     "output_type": "execute_result"
    }
   ],
   "source": [
    "pert_pairs = [(14349, 15697), #Already complete\n",
    "    (10920,14330), # 0.59\n",
    "    (10920,14347), # 1.0\n",
    "    (10920,15696), # 0.72\n",
    "    (16393,15697), # 0.76\n",
    "    (14349,14348), # 0.66\n",
    "    (16393,17333), # 0.2\n",
    "    (15696,14347), # 0.15\n",
    "    (17334,14336)] # 0.18\n",
    "pert_pairs"
   ]
  },
  {
   "cell_type": "code",
   "execution_count": 10,
   "id": "9f2cdd6a",
   "metadata": {},
   "outputs": [],
   "source": [
    "import os\n",
    "\n",
    "#pert_pair = (14349, 15697)\n",
    "for pert_pair in pert_pairs[1:]:\n",
    "    path_to_lambda = f\"../fep_lambda_files/cls-22-06-27-2/{pert_pair[0]}-{pert_pair[1]}/\"\n",
    "\n",
    "    if not os.path.exists(path_to_lambda):\n",
    "        os.makedirs(path_to_lambda)\n",
    "        \n",
    "    mol1 = molecules_amber[pert_pair[0]]\n",
    "    mol2 = molecules_amber[pert_pair[1]]\n",
    "\n",
    "    mapping = BSS.Align.matchAtoms(mol1, mol2)\n",
    "    mol1 = BSS.Align.rmsdAlign(mol1, mol2, mapping)\n",
    "\n",
    "    merged = BSS.Align.merge(mol1, mol2, mapping, \n",
    "                             allow_ring_breaking=True,\n",
    "                             #allow_ring_size_change=True\n",
    "                            )\n",
    "\n",
    "    solvated = BSS.Solvent.tip3p(molecule=merged, box=3*[40*BSS.Units.Length.angstrom])\n",
    "    protocol = BSS.Protocol.FreeEnergy(timestep=2*BSS.Units.Time.femtosecond, runtime=4*BSS.Units.Time.nanosecond, num_lam=11)\n",
    "    \n",
    "    \n",
    "    for run_num in range(0,6):\n",
    "        fep_free = BSS.FreeEnergy.Relative(solvated, protocol, work_dir=f\"{path_to_lambda}/run{run_num}/free\")\n",
    "        fep_vac  = BSS.FreeEnergy.Relative(merged.toSystem(), protocol, work_dir=f\"{path_to_lambda}/run{run_num}/vacuum\")"
   ]
  },
  {
   "cell_type": "code",
   "execution_count": 31,
   "id": "291c7dc9",
   "metadata": {},
   "outputs": [],
   "source": [
    "\"\"\"\n",
    "mol1 = molecules_amber[pert_pair[0]]\n",
    "mol2 = molecules_amber[pert_pair[1]]\n",
    "\n",
    "mapping = BSS.Align.matchAtoms(mol1, mol2)\n",
    "mol1 = BSS.Align.rmsdAlign(mol1, mol2, mapping)\n",
    "\n",
    "merged = BSS.Align.merge(mol1, mol2, mapping, \n",
    "                         allow_ring_breaking=True,\n",
    "                         #allow_ring_size_change=True\n",
    "                        )\n",
    "\n",
    "solvated = BSS.Solvent.tip3p(molecule=merged, box=3*[40*BSS.Units.Length.angstrom])\n",
    "protocol = BSS.Protocol.FreeEnergy(timestep=2*BSS.Units.Time.femtosecond, runtime=4*BSS.Units.Time.nanosecond, num_lam=11)\n",
    "\n",
    "#Can loop over these two lines to duplicate\n",
    "\"\"\""
   ]
  },
  {
   "cell_type": "code",
   "execution_count": 34,
   "id": "c0fc2cce",
   "metadata": {},
   "outputs": [],
   "source": [
    "\"\"\"\n",
    "for run_num in range(0,6):\n",
    "    fep_free = BSS.FreeEnergy.Relative(solvated, protocol, work_dir=f\"{path_to_lambda}/run{run_num}/free\")\n",
    "    fep_vac  = BSS.FreeEnergy.Relative(merged.toSystem(), protocol, work_dir=f\"{path_to_lambda}/run{run_num}/vacuum\")\n",
    "\"\"\""
   ]
  }
 ],
 "metadata": {
  "kernelspec": {
   "display_name": "Python 3 (ipykernel)",
   "language": "python",
   "name": "python3"
  },
  "language_info": {
   "codemirror_mode": {
    "name": "ipython",
    "version": 3
   },
   "file_extension": ".py",
   "mimetype": "text/x-python",
   "name": "python",
   "nbconvert_exporter": "python",
   "pygments_lexer": "ipython3",
   "version": "3.7.8"
  }
 },
 "nbformat": 4,
 "nbformat_minor": 5
}
