{
 "cells": [
  {
   "cell_type": "code",
   "execution_count": 14,
   "id": "a6f19f47",
   "metadata": {},
   "outputs": [],
   "source": [
    "import os\n",
    "from openbabel import pybel\n",
    "import pandas as pd"
   ]
  },
  {
   "cell_type": "code",
   "execution_count": 15,
   "id": "4957cd4b",
   "metadata": {},
   "outputs": [],
   "source": [
    "path = \"../clusters/very_large-22-06-28/\""
   ]
  },
  {
   "cell_type": "code",
   "execution_count": 16,
   "id": "13cb7887",
   "metadata": {
    "scrolled": true
   },
   "outputs": [
    {
     "data": {
      "text/html": [
       "<div>\n",
       "<style scoped>\n",
       "    .dataframe tbody tr th:only-of-type {\n",
       "        vertical-align: middle;\n",
       "    }\n",
       "\n",
       "    .dataframe tbody tr th {\n",
       "        vertical-align: top;\n",
       "    }\n",
       "\n",
       "    .dataframe thead th {\n",
       "        text-align: right;\n",
       "    }\n",
       "</style>\n",
       "<table border=\"1\" class=\"dataframe\">\n",
       "  <thead>\n",
       "    <tr style=\"text-align: right;\">\n",
       "      <th></th>\n",
       "      <th>CID</th>\n",
       "      <th>SMILES</th>\n",
       "    </tr>\n",
       "    <tr>\n",
       "      <th>index</th>\n",
       "      <th></th>\n",
       "      <th></th>\n",
       "    </tr>\n",
       "  </thead>\n",
       "  <tbody>\n",
       "    <tr>\n",
       "      <th>19585</th>\n",
       "      <td>PET-UNK-c0891748-7</td>\n",
       "      <td>COC1(C(=O)Nc2cncc3ccccc23)CCOc2ncc(Cl)cc21</td>\n",
       "    </tr>\n",
       "    <tr>\n",
       "      <th>13678</th>\n",
       "      <td>ALP-POS-477dc5b7-3</td>\n",
       "      <td>O=C(Nc1cncc2ccccc12)C1(CCC2CC2)CCOc2ccc(Cl)cc21</td>\n",
       "    </tr>\n",
       "    <tr>\n",
       "      <th>13754</th>\n",
       "      <td>DAR-DIA-6a508060-10</td>\n",
       "      <td>CC1(C(=O)Nc2cncc3ccccc23)CCOc2ccc(Cl)cc21</td>\n",
       "    </tr>\n",
       "    <tr>\n",
       "      <th>13757</th>\n",
       "      <td>DAR-DIA-6a508060-13</td>\n",
       "      <td>CS(=O)(=O)NCCC1(C(=O)Nc2cncc3ccccc23)CCOc2ccc(...</td>\n",
       "    </tr>\n",
       "    <tr>\n",
       "      <th>15803</th>\n",
       "      <td>MAT-POS-5d65ec79-1</td>\n",
       "      <td>CN(C)C(=O)CC1(C(=O)Nc2cncc3ccccc23)CCOc2ccc(Cl...</td>\n",
       "    </tr>\n",
       "    <tr>\n",
       "      <th>...</th>\n",
       "      <td>...</td>\n",
       "      <td>...</td>\n",
       "    </tr>\n",
       "    <tr>\n",
       "      <th>17835</th>\n",
       "      <td>MIC-UNK-ea4eb352-4</td>\n",
       "      <td>COC1(C(=O)Nc2cncc3ccccc23)CCSc2ccc(Cl)cc21</td>\n",
       "    </tr>\n",
       "    <tr>\n",
       "      <th>17910</th>\n",
       "      <td>MIC-UNK-ddc6ad53-1</td>\n",
       "      <td>O=C(Nc1cncc2ccccc12)C1(OCC(F)(F)F)CCOc2ccc(Cl)...</td>\n",
       "    </tr>\n",
       "    <tr>\n",
       "      <th>17911</th>\n",
       "      <td>MIC-UNK-ddc6ad53-2</td>\n",
       "      <td>O=C(Nc1cncc2ccccc12)C1(OCCOC(F)(F)F)CCOc2ccc(C...</td>\n",
       "    </tr>\n",
       "    <tr>\n",
       "      <th>17912</th>\n",
       "      <td>MIC-UNK-ddc6ad53-3</td>\n",
       "      <td>O=C(Nc1cncc2ccccc12)C1(OCCC(F)(F)F)CCOc2ccc(Cl...</td>\n",
       "    </tr>\n",
       "    <tr>\n",
       "      <th>18846</th>\n",
       "      <td>ALP-POS-6f6ae286-3</td>\n",
       "      <td>COC1(C(=O)Nc2cncc3cc(F)ccc23)CCOc2ccc(Cl)cc21</td>\n",
       "    </tr>\n",
       "  </tbody>\n",
       "</table>\n",
       "<p>80 rows × 2 columns</p>\n",
       "</div>"
      ],
      "text/plain": [
       "                       CID                                             SMILES\n",
       "index                                                                        \n",
       "19585   PET-UNK-c0891748-7         COC1(C(=O)Nc2cncc3ccccc23)CCOc2ncc(Cl)cc21\n",
       "13678   ALP-POS-477dc5b7-3    O=C(Nc1cncc2ccccc12)C1(CCC2CC2)CCOc2ccc(Cl)cc21\n",
       "13754  DAR-DIA-6a508060-10          CC1(C(=O)Nc2cncc3ccccc23)CCOc2ccc(Cl)cc21\n",
       "13757  DAR-DIA-6a508060-13  CS(=O)(=O)NCCC1(C(=O)Nc2cncc3ccccc23)CCOc2ccc(...\n",
       "15803   MAT-POS-5d65ec79-1  CN(C)C(=O)CC1(C(=O)Nc2cncc3ccccc23)CCOc2ccc(Cl...\n",
       "...                    ...                                                ...\n",
       "17835   MIC-UNK-ea4eb352-4         COC1(C(=O)Nc2cncc3ccccc23)CCSc2ccc(Cl)cc21\n",
       "17910   MIC-UNK-ddc6ad53-1  O=C(Nc1cncc2ccccc12)C1(OCC(F)(F)F)CCOc2ccc(Cl)...\n",
       "17911   MIC-UNK-ddc6ad53-2  O=C(Nc1cncc2ccccc12)C1(OCCOC(F)(F)F)CCOc2ccc(C...\n",
       "17912   MIC-UNK-ddc6ad53-3  O=C(Nc1cncc2ccccc12)C1(OCCC(F)(F)F)CCOc2ccc(Cl...\n",
       "18846   ALP-POS-6f6ae286-3      COC1(C(=O)Nc2cncc3cc(F)ccc23)CCOc2ccc(Cl)cc21\n",
       "\n",
       "[80 rows x 2 columns]"
      ]
     },
     "execution_count": 16,
     "metadata": {},
     "output_type": "execute_result"
    }
   ],
   "source": [
    "df = pd.read_csv(path+\"cluster_cleaned.csv\", index_col=\"index\")\n",
    "df"
   ]
  },
  {
   "cell_type": "code",
   "execution_count": 17,
   "id": "339f54f9",
   "metadata": {},
   "outputs": [],
   "source": [
    "for idx, smiles in zip(df.index, df.SMILES):\n",
    "    mol = pybel.readstring(\"smi\", smiles)\n",
    "    mol.addh()\n",
    "    mol.make3D(steps=1000)\n",
    "    mol.write(\"sdf\", f\"{path}{idx}.sdf\")"
   ]
  },
  {
   "cell_type": "code",
   "execution_count": null,
   "id": "0def6398",
   "metadata": {},
   "outputs": [],
   "source": []
  },
  {
   "cell_type": "code",
   "execution_count": null,
   "id": "6a229bd7",
   "metadata": {},
   "outputs": [],
   "source": []
  }
 ],
 "metadata": {
  "kernelspec": {
   "display_name": "Python 3 (ipykernel)",
   "language": "python",
   "name": "python3"
  },
  "language_info": {
   "codemirror_mode": {
    "name": "ipython",
    "version": 3
   },
   "file_extension": ".py",
   "mimetype": "text/x-python",
   "name": "python",
   "nbconvert_exporter": "python",
   "pygments_lexer": "ipython3",
   "version": "3.7.8"
  }
 },
 "nbformat": 4,
 "nbformat_minor": 5
}
