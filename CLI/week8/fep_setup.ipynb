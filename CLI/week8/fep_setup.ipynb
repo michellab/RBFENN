{
 "cells": [
  {
   "cell_type": "code",
   "execution_count": 1,
   "id": "f6c1eaa0",
   "metadata": {},
   "outputs": [
    {
     "name": "stderr",
     "output_type": "stream",
     "text": [
      "/home/nichrun/miniconda3/envs/data_driven_fep_rel/lib/python3.7/site-packages/BioSimSpace/Parameters/_process.py:134: UserWarning: Attempting to parameterise a molecule without hydrogen atoms!\n",
      "  _warnings.warn(\"Attempting to parameterise a molecule without hydrogen atoms!\")\n"
     ]
    }
   ],
   "source": [
    "import BioSimSpace as BSS"
   ]
  },
  {
   "cell_type": "code",
   "execution_count": 2,
   "id": "d33d2826",
   "metadata": {},
   "outputs": [
    {
     "data": {
      "text/plain": [
       "'\\nlig1_file = \"Mpro_P1788_0A.sdf\"\\nmol = pybel.readfile(\"sdf\", \"Mpro_P1788_0A.sdf\")\\nmol = next(mol)\\nmol.write(\"mol2\",\"Mpro_P1788_0A.mol2\")\\n'"
      ]
     },
     "execution_count": 2,
     "metadata": {},
     "output_type": "execute_result"
    }
   ],
   "source": [
    "import openbabel\n",
    "from openbabel import pybel\n",
    "#SDF to mol2\n",
    "\"\"\"\n",
    "lig1_file = \"Mpro_P1788_0A.sdf\"\n",
    "mol = pybel.readfile(\"sdf\", \"Mpro_P1788_0A.sdf\")\n",
    "mol = next(mol)\n",
    "mol.write(\"mol2\",\"Mpro_P1788_0A.mol2\")\n",
    "\"\"\""
   ]
  },
  {
   "cell_type": "code",
   "execution_count": 3,
   "id": "2654e2cf",
   "metadata": {},
   "outputs": [
    {
     "ename": "ParameterisationError",
     "evalue": "Parameterisation failed! Last error: 'Antechamber failed!'",
     "output_type": "error",
     "traceback": [
      "\u001b[0;31m---------------------------------------------------------------------------\u001b[0m",
      "\u001b[0;31mParameterisationError\u001b[0m                     Traceback (most recent call last)",
      "\u001b[0;32m/tmp/ipykernel_4476/4219127952.py\u001b[0m in \u001b[0;36m<module>\u001b[0;34m\u001b[0m\n\u001b[1;32m      1\u001b[0m \u001b[0mlig1\u001b[0m \u001b[0;34m=\u001b[0m \u001b[0mBSS\u001b[0m\u001b[0;34m.\u001b[0m\u001b[0mIO\u001b[0m\u001b[0;34m.\u001b[0m\u001b[0mreadMolecules\u001b[0m\u001b[0;34m(\u001b[0m\u001b[0;34m\"Mpro_P1788_0A.mol2\"\u001b[0m\u001b[0;34m)\u001b[0m\u001b[0;34m[\u001b[0m\u001b[0;36m0\u001b[0m\u001b[0;34m]\u001b[0m\u001b[0;34m\u001b[0m\u001b[0;34m\u001b[0m\u001b[0m\n\u001b[0;32m----> 2\u001b[0;31m \u001b[0mlig1\u001b[0m \u001b[0;34m=\u001b[0m \u001b[0mBSS\u001b[0m\u001b[0;34m.\u001b[0m\u001b[0mParameters\u001b[0m\u001b[0;34m.\u001b[0m\u001b[0mgaff2\u001b[0m\u001b[0;34m(\u001b[0m\u001b[0mlig1\u001b[0m\u001b[0;34m)\u001b[0m\u001b[0;34m.\u001b[0m\u001b[0mgetMolecule\u001b[0m\u001b[0;34m(\u001b[0m\u001b[0;34m)\u001b[0m\u001b[0;34m\u001b[0m\u001b[0;34m\u001b[0m\u001b[0m\n\u001b[0m",
      "\u001b[0;32m~/miniconda3/envs/data_driven_fep_rel/lib/python3.7/site-packages/BioSimSpace/Parameters/_process.py\u001b[0m in \u001b[0;36mgetMolecule\u001b[0;34m(self)\u001b[0m\n\u001b[1;32m    225\u001b[0m                 \u001b[0;32mraise\u001b[0m \u001b[0m_ParameterisationError\u001b[0m\u001b[0;34m(\u001b[0m\u001b[0;34m\"Parameterisation failed! Last error: '%s'\"\u001b[0m \u001b[0;34m%\u001b[0m \u001b[0mstr\u001b[0m\u001b[0;34m(\u001b[0m\u001b[0mself\u001b[0m\u001b[0;34m.\u001b[0m\u001b[0m_last_error\u001b[0m\u001b[0;34m)\u001b[0m\u001b[0;34m)\u001b[0m\u001b[0;34m\u001b[0m\u001b[0;34m\u001b[0m\u001b[0m\n\u001b[1;32m    226\u001b[0m             \u001b[0;32melse\u001b[0m\u001b[0;34m:\u001b[0m\u001b[0;34m\u001b[0m\u001b[0;34m\u001b[0m\u001b[0m\n\u001b[0;32m--> 227\u001b[0;31m                 \u001b[0;32mraise\u001b[0m \u001b[0m_ParameterisationError\u001b[0m\u001b[0;34m(\u001b[0m\u001b[0;34m\"Parameterisation failed! Last error: '%s'\"\u001b[0m \u001b[0;34m%\u001b[0m \u001b[0mstr\u001b[0m\u001b[0;34m(\u001b[0m\u001b[0mself\u001b[0m\u001b[0;34m.\u001b[0m\u001b[0m_last_error\u001b[0m\u001b[0;34m)\u001b[0m\u001b[0;34m)\u001b[0m \u001b[0;32mfrom\u001b[0m \u001b[0;32mNone\u001b[0m\u001b[0;34m\u001b[0m\u001b[0;34m\u001b[0m\u001b[0m\n\u001b[0m\u001b[1;32m    228\u001b[0m \u001b[0;34m\u001b[0m\u001b[0m\n\u001b[1;32m    229\u001b[0m         \u001b[0;32mreturn\u001b[0m \u001b[0mself\u001b[0m\u001b[0;34m.\u001b[0m\u001b[0m_new_molecule\u001b[0m\u001b[0;34m\u001b[0m\u001b[0;34m\u001b[0m\u001b[0m\n",
      "\u001b[0;31mParameterisationError\u001b[0m: Parameterisation failed! Last error: 'Antechamber failed!'"
     ]
    }
   ],
   "source": [
    "lig1 = BSS.IO.readMolecules(\"Mpro_P1788_0A.mol2\")[0]\n",
    "lig1 = BSS.Parameters.gaff2(lig1).getMolecule()"
   ]
  },
  {
   "cell_type": "code",
   "execution_count": 4,
   "id": "30228b27",
   "metadata": {},
   "outputs": [],
   "source": [
    "protein = BSS.IO.readMolecules(\"Mpro-P1800_0A_bound-protein.pdb\")[0]"
   ]
  },
  {
   "cell_type": "code",
   "execution_count": 5,
   "id": "4fb9e8f7",
   "metadata": {},
   "outputs": [],
   "source": [
    "#Other ligands\n",
    "#EDJ-MED-968bafd9-1 (0.21)\n",
    "lig3_smiles = \"COC1(CS(=O)(=O)N2CC(C(=O)Nc3cncc4ccccc34)c3cc(Cl)ccc3C2=O)CC1\"\n",
    "\n",
    "#EDJ-MED-968bafd9-2 (0.77)\n",
    "lig4_smiles = \"COC1(CS(=O)(=O)N2CC(C(=O)Nc3cncc4cc(S(C)(=O)=O)ccc34)c3cc(Cl)ccc3C2=O)CC1\""
   ]
  },
  {
   "cell_type": "code",
   "execution_count": 6,
   "id": "65f648ca",
   "metadata": {
    "scrolled": true
   },
   "outputs": [
    {
     "ename": "ParameterisationError",
     "evalue": "Parameterisation failed! Last error: 'Unable to convert SMILES to Molecule using Open Force Field.'",
     "output_type": "error",
     "traceback": [
      "\u001b[0;31m---------------------------------------------------------------------------\u001b[0m",
      "\u001b[0;31mParameterisationError\u001b[0m                     Traceback (most recent call last)",
      "\u001b[0;32m/tmp/ipykernel_4476/3029655170.py\u001b[0m in \u001b[0;36m<module>\u001b[0;34m\u001b[0m\n\u001b[0;32m----> 1\u001b[0;31m \u001b[0mlig3\u001b[0m \u001b[0;34m=\u001b[0m \u001b[0mBSS\u001b[0m\u001b[0;34m.\u001b[0m\u001b[0mParameters\u001b[0m\u001b[0;34m.\u001b[0m\u001b[0mgaff2\u001b[0m\u001b[0;34m(\u001b[0m\u001b[0mlig3_smiles\u001b[0m\u001b[0;34m)\u001b[0m\u001b[0;34m.\u001b[0m\u001b[0mgetMolecule\u001b[0m\u001b[0;34m(\u001b[0m\u001b[0;34m)\u001b[0m\u001b[0;34m\u001b[0m\u001b[0;34m\u001b[0m\u001b[0m\n\u001b[0m\u001b[1;32m      2\u001b[0m \u001b[0mlig4\u001b[0m \u001b[0;34m=\u001b[0m \u001b[0mBSS\u001b[0m\u001b[0;34m.\u001b[0m\u001b[0mParameters\u001b[0m\u001b[0;34m.\u001b[0m\u001b[0mgaff2\u001b[0m\u001b[0;34m(\u001b[0m\u001b[0mlig4_smiles\u001b[0m\u001b[0;34m)\u001b[0m\u001b[0;34m.\u001b[0m\u001b[0mgetMolecule\u001b[0m\u001b[0;34m(\u001b[0m\u001b[0;34m)\u001b[0m\u001b[0;34m\u001b[0m\u001b[0;34m\u001b[0m\u001b[0m\n",
      "\u001b[0;32m~/miniconda3/envs/data_driven_fep_rel/lib/python3.7/site-packages/BioSimSpace/Parameters/_process.py\u001b[0m in \u001b[0;36mgetMolecule\u001b[0;34m(self)\u001b[0m\n\u001b[1;32m    225\u001b[0m                 \u001b[0;32mraise\u001b[0m \u001b[0m_ParameterisationError\u001b[0m\u001b[0;34m(\u001b[0m\u001b[0;34m\"Parameterisation failed! Last error: '%s'\"\u001b[0m \u001b[0;34m%\u001b[0m \u001b[0mstr\u001b[0m\u001b[0;34m(\u001b[0m\u001b[0mself\u001b[0m\u001b[0;34m.\u001b[0m\u001b[0m_last_error\u001b[0m\u001b[0;34m)\u001b[0m\u001b[0;34m)\u001b[0m\u001b[0;34m\u001b[0m\u001b[0;34m\u001b[0m\u001b[0m\n\u001b[1;32m    226\u001b[0m             \u001b[0;32melse\u001b[0m\u001b[0;34m:\u001b[0m\u001b[0;34m\u001b[0m\u001b[0;34m\u001b[0m\u001b[0m\n\u001b[0;32m--> 227\u001b[0;31m                 \u001b[0;32mraise\u001b[0m \u001b[0m_ParameterisationError\u001b[0m\u001b[0;34m(\u001b[0m\u001b[0;34m\"Parameterisation failed! Last error: '%s'\"\u001b[0m \u001b[0;34m%\u001b[0m \u001b[0mstr\u001b[0m\u001b[0;34m(\u001b[0m\u001b[0mself\u001b[0m\u001b[0;34m.\u001b[0m\u001b[0m_last_error\u001b[0m\u001b[0;34m)\u001b[0m\u001b[0;34m)\u001b[0m \u001b[0;32mfrom\u001b[0m \u001b[0;32mNone\u001b[0m\u001b[0;34m\u001b[0m\u001b[0;34m\u001b[0m\u001b[0m\n\u001b[0m\u001b[1;32m    228\u001b[0m \u001b[0;34m\u001b[0m\u001b[0m\n\u001b[1;32m    229\u001b[0m         \u001b[0;32mreturn\u001b[0m \u001b[0mself\u001b[0m\u001b[0;34m.\u001b[0m\u001b[0m_new_molecule\u001b[0m\u001b[0;34m\u001b[0m\u001b[0;34m\u001b[0m\u001b[0m\n",
      "\u001b[0;31mParameterisationError\u001b[0m: Parameterisation failed! Last error: 'Unable to convert SMILES to Molecule using Open Force Field.'"
     ]
    }
   ],
   "source": [
    "lig3 = BSS.Parameters.gaff2(lig3_smiles).getMolecule()\n",
    "lig4 = BSS.Parameters.gaff2(lig4_smiles).getMolecule()"
   ]
  },
  {
   "cell_type": "code",
   "execution_count": 7,
   "id": "d60cc847",
   "metadata": {},
   "outputs": [
    {
     "data": {
      "application/vnd.jupyter.widget-view+json": {
       "model_id": "f40f1e8bc5f640dea8ded76164057c42",
       "version_major": 2,
       "version_minor": 0
      },
      "text/plain": []
     },
     "metadata": {},
     "output_type": "display_data"
    },
    {
     "data": {
      "application/vnd.jupyter.widget-view+json": {
       "model_id": "dbcd7be99d2d4a7b84fbe8a8c00273ce",
       "version_major": 2,
       "version_minor": 0
      },
      "text/plain": [
       "ThemeManager()"
      ]
     },
     "metadata": {},
     "output_type": "display_data"
    },
    {
     "data": {
      "application/vnd.jupyter.widget-view+json": {
       "model_id": "2e3f218e798b40a0bdd492e009717ad7",
       "version_major": 2,
       "version_minor": 0
      },
      "text/plain": [
       "NGLWidget(gui_style='ngl')"
      ]
     },
     "metadata": {},
     "output_type": "display_data"
    }
   ],
   "source": [
    "view = BSS.Notebook.View(lig1+protein)\n",
    "view.system()"
   ]
  },
  {
   "cell_type": "markdown",
   "id": "1da0a527",
   "metadata": {},
   "source": [
    " \n",
    " \n",
    " \n",
    " \n",
    " \n",
    " \n",
    " \n",
    " \n",
    " \n",
    " \n",
    " \n",
    " "
   ]
  },
  {
   "cell_type": "code",
   "execution_count": null,
   "id": "a2d4a284",
   "metadata": {},
   "outputs": [],
   "source": [
    "atom_mapping = BSS.Align.matchAtoms(lig3, lig1)\n",
    "lig3 = BSS.Align.rmsdAlign(lig3, lig1, atom_mapping)"
   ]
  },
  {
   "cell_type": "code",
   "execution_count": null,
   "id": "c9632dca",
   "metadata": {},
   "outputs": [],
   "source": [
    "lig4 = BSS.Align.rmsdAlign(lig4, lig1, atom_mapping)"
   ]
  },
  {
   "cell_type": "code",
   "execution_count": null,
   "id": "d142a409",
   "metadata": {},
   "outputs": [],
   "source": [
    "#merge4 = BSS.Align.merge(lig4, lig1)"
   ]
  },
  {
   "cell_type": "code",
   "execution_count": null,
   "id": "aaa44da0",
   "metadata": {},
   "outputs": [
    {
     "name": "stdout",
     "output_type": "stream",
     "text": [
      "\n",
      "==============================================================\n",
      "Sending anonymous Sire usage statistics to http://siremol.org.\n",
      "For more information, see http://siremol.org/analytics\n",
      "To disable, set the environment variable 'SIRE_DONT_PHONEHOME' to 1\n",
      "To see the information sent, set the environment variable \n",
      "SIRE_VERBOSE_PHONEHOME equal to 1. To silence this message, set\n",
      "the environment variable SIRE_SILENT_PHONEHOME to 1.\n",
      "==============================================================\n",
      "\n"
     ]
    }
   ],
   "source": [
    "BSS.Align.drawMapping(lig4,lig1,atom_mapping)"
   ]
  }
 ],
 "metadata": {
  "kernelspec": {
   "display_name": "Python 3 (ipykernel)",
   "language": "python",
   "name": "python3"
  },
  "language_info": {
   "codemirror_mode": {
    "name": "ipython",
    "version": 3
   },
   "file_extension": ".py",
   "mimetype": "text/x-python",
   "name": "python",
   "nbconvert_exporter": "python",
   "pygments_lexer": "ipython3",
   "version": "3.7.8"
  }
 },
 "nbformat": 4,
 "nbformat_minor": 5
}
