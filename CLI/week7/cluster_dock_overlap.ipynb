{
 "cells": [
  {
   "cell_type": "code",
   "execution_count": 1,
   "id": "53618700",
   "metadata": {},
   "outputs": [],
   "source": [
    "from rdkit import Chem\n",
    "import pandas as pd\n",
    "from rdkit.Chem import PandasTools\n",
    "\n",
    "from IPython.display import HTML\n",
    "def show_df(df):\n",
    "    return HTML(df.to_html(notebook=True))"
   ]
  },
  {
   "cell_type": "code",
   "execution_count": 45,
   "id": "4063bb5f",
   "metadata": {},
   "outputs": [
    {
     "name": "stderr",
     "output_type": "stream",
     "text": [
      "/home/nichrun/miniconda3/envs/data_driven_fep_rel/lib/python3.7/site-packages/IPython/core/interactiveshell.py:3444: DtypeWarning: Columns (3,6,7,9,10,11,12,13,14,15,18,19,27,28,29,30,31,32,33,34,35,36,44,45,46,47,48,49,50,51,52,53,54,55,56,57,58,59,66,67,69,70,71,72,73,74,75,76,84,85,86,87,89,90,91,92,93,94,95,96,104,105,106,107,109,110,111,112,113,114,115,116,124,125,126,127,129,130,131,132,133,134,135,136,144,145,146,147,149,150,151,152,153,154,155,156,164,165,166,167,169,170,171,172,173,174,175,176,184,185,186,187,189,190,191,192,193,194,195,196,204,205,206,207,209,210,211,212,213,214,215,216,224,225,226,227,229,230,231,232,233,234,235,236,244,245,246,247,249,253,254,255,256,257,258,259,275,276) have mixed types.Specify dtype option on import or set low_memory=False.\n",
      "  exec(code_obj, self.user_global_ns, self.user_ns)\n"
     ]
    }
   ],
   "source": [
    "moonshot_file = \"../../covid_submissions_all_info.csv\"\n",
    "df = pd.read_csv(moonshot_file)"
   ]
  },
  {
   "cell_type": "code",
   "execution_count": 49,
   "id": "e5d69128",
   "metadata": {},
   "outputs": [],
   "source": [
    "entire_names_list = list(df[\"CID\"])"
   ]
  },
  {
   "cell_type": "code",
   "execution_count": 5,
   "id": "42feb7e1",
   "metadata": {},
   "outputs": [],
   "source": [
    "names_in_cluster = []\n",
    "with open(\"big_cls_b3e365b9.csv\", \"r\") as file:\n",
    "    for line in file.readlines()[1:]:\n",
    "        names_in_cluster.append(line.split(\",\")[1])"
   ]
  },
  {
   "cell_type": "code",
   "execution_count": 38,
   "id": "c19dbc98",
   "metadata": {},
   "outputs": [],
   "source": [
    "names_with_dock = []\n",
    "with open(\"../../../molecules_with_poses.txt\") as file:\n",
    "    for line in ((file.readlines()[0]).split(\", \")):\n",
    "        names_with_dock.append(line.strip(\"'\").strip(\"['\").strip(\"']\"))"
   ]
  },
  {
   "cell_type": "code",
   "execution_count": 41,
   "id": "d1052f77",
   "metadata": {},
   "outputs": [],
   "source": [
    "set1 = set(names_in_cluster)"
   ]
  },
  {
   "cell_type": "code",
   "execution_count": 42,
   "id": "ab1074aa",
   "metadata": {},
   "outputs": [],
   "source": [
    "set2 = set(names_with_dock)"
   ]
  },
  {
   "cell_type": "code",
   "execution_count": 50,
   "id": "ea7adf91",
   "metadata": {},
   "outputs": [],
   "source": [
    "set3 = set(entire_names_list)"
   ]
  },
  {
   "cell_type": "code",
   "execution_count": 57,
   "id": "a87eb21f",
   "metadata": {},
   "outputs": [
    {
     "data": {
      "text/plain": [
       "set()"
      ]
     },
     "execution_count": 57,
     "metadata": {},
     "output_type": "execute_result"
    }
   ],
   "source": [
    "set.intersection(set1, set2)"
   ]
  },
  {
   "cell_type": "code",
   "execution_count": null,
   "id": "9c8da4fa",
   "metadata": {},
   "outputs": [],
   "source": []
  }
 ],
 "metadata": {
  "kernelspec": {
   "display_name": "Python 3 (ipykernel)",
   "language": "python",
   "name": "python3"
  },
  "language_info": {
   "codemirror_mode": {
    "name": "ipython",
    "version": 3
   },
   "file_extension": ".py",
   "mimetype": "text/x-python",
   "name": "python",
   "nbconvert_exporter": "python",
   "pygments_lexer": "ipython3",
   "version": "3.7.8"
  }
 },
 "nbformat": 4,
 "nbformat_minor": 5
}
