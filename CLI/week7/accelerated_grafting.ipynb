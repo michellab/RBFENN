{
 "cells": [
  {
   "cell_type": "code",
   "execution_count": 1,
   "id": "8b38bdeb",
   "metadata": {},
   "outputs": [],
   "source": [
    "from rdkit import Chem\n",
    "import pandas as pd\n",
    "from rdkit.Chem import PandasTools\n",
    "\n",
    "from IPython.display import HTML\n",
    "def show_df(df):\n",
    "    return HTML(df.to_html(notebook=True))"
   ]
  },
  {
   "cell_type": "markdown",
   "id": "809e1ac3",
   "metadata": {},
   "source": [
    "# Function: implements murcko scaffold algorithm as originally described"
   ]
  },
  {
   "cell_type": "code",
   "execution_count": 2,
   "id": "54566163",
   "metadata": {},
   "outputs": [],
   "source": [
    "from rdkit.Chem.Scaffolds import MurckoScaffold\n",
    "from rdkit.Chem import rdchem\n",
    "\n",
    "def GetTrueScaffold(mol,generic=False):\n",
    "    #Not sure if hybridisation of dummy atom is correct\n",
    "    #Not sure on properties\n",
    "    #Seems to work as desired\n",
    "    \"\"\"\n",
    "    Takes RDKit mol object\n",
    "    Returns mol object of the murcko scaffold with original algorithm\n",
    "    Stereochemistry is lost\n",
    "    \"\"\"\n",
    "    mol = MurckoScaffold.GetScaffoldForMol(mol)\n",
    "    atom_to_remove = []\n",
    "    atom_to_clean = []\n",
    "    \n",
    "    for a in mol.GetAtoms():\n",
    "        #Remove chirality\n",
    "        mol.GetAtomWithIdx(a.GetIdx()).SetChiralTag(Chem.ChiralType.CHI_UNSPECIFIED)\n",
    "        \n",
    "        #For atoms bonded to only one other atom, these must be removed\n",
    "        if len(a.GetBonds()) == 1:\n",
    "            #Get index of atom to delete and append to deletion list\n",
    "            atom_to_remove.append(a.GetIdx())\n",
    "\n",
    "    #If there are atoms to delte\n",
    "    if len(atom_to_remove) > 0:\n",
    "        #Create an editable molecule (now RW)\n",
    "        emol = rdchem.RWMol(mol)\n",
    "        #Every time an atom is delted the index changes\n",
    "        #Deletion list must be reversed to avoid rogue deletions\n",
    "        for a in atom_to_remove[::-1]:\n",
    "            #Remove atom by index a\n",
    "            emol.RemoveAtom(a)\n",
    "    #If the molecule is already the correct murcko scaffold set emol = mol\n",
    "    else:\n",
    "        emol = mol\n",
    "    \n",
    "    #This line used to cause errors\n",
    "    #SanitizeMol(emol) often failed due to aromaticity\n",
    "    #Attempts to solve this included replacing previously bonded atoms with the\n",
    "    #wild card *\n",
    "    #It seems clearing aromatic flags solved the issue\n",
    "    try:\n",
    "        #Clearing aromatic flags seems to fix everything\n",
    "        Chem.Kekulize(emol,clearAromaticFlags=True)\n",
    "        Chem.SanitizeMol(emol)\n",
    "    except:\n",
    "        #Error\n",
    "        #Will show the input molecule and attempted editted molecule (before sanitization attempt)\n",
    "        display(\"Input Mol\")\n",
    "        display(mol)\n",
    "        display(\"Output Emol\")\n",
    "        display(emol)\n",
    "        raise (\"Error in santisation of new molecule\")\n",
    "        return False\n",
    "    \n",
    "    #The above procedure will remove all remaining decorating groups on scaffold\n",
    "    #In some cases (like sulfonyl) this will leave an aliphatic chain\n",
    "    #Additional application of MurckoScaffold algorithm is needed\n",
    "    #However the RDKit implementation is sufficient \n",
    "    emol = MurckoScaffold.GetScaffoldForMol(emol)\n",
    "    \n",
    "    #If the generic scaffold is desired (Flag), make generic\n",
    "    if generic:\n",
    "        emol = MurckoScaffold.MakeScaffoldGeneric(emol)\n",
    "\n",
    "    #Return the molecule\n",
    "    return emol"
   ]
  },
  {
   "cell_type": "markdown",
   "id": "334d33aa",
   "metadata": {},
   "source": [
    "# Replace atoms present in murcko scaffold with wild card. All side chains remain intact"
   ]
  },
  {
   "cell_type": "code",
   "execution_count": 3,
   "id": "814ac772",
   "metadata": {},
   "outputs": [],
   "source": [
    "def CleanScaffold(mol,seed=None):\n",
    "    #Note: this fails with hypervalent atoms\n",
    "    \n",
    "    \"\"\"\n",
    "    input: RDKit mol\n",
    "    param:\n",
    "        seed: RDKit smarts mol\n",
    "    \"\"\"\n",
    "    if not seed:\n",
    "        seed = GetTrueScaffold(mol)\n",
    "    for atom_idx in mol.GetSubstructMatch(seed):\n",
    "        mol.GetAtomWithIdx(atom_idx).SetAtomicNum(0)\n",
    "    return mol"
   ]
  },
  {
   "cell_type": "markdown",
   "id": "68a9fbba",
   "metadata": {},
   "source": [
    "# Function: from a pair of molecules, find the fragments. Optional seed (smarts string) to accelerate substructure search. Flag \"clean_scaffold\" will replace all murcko scaffold atoms in mol with wildcard, neccessary for succesfull fragment finding "
   ]
  },
  {
   "cell_type": "code",
   "execution_count": 4,
   "id": "fd5a934e",
   "metadata": {},
   "outputs": [],
   "source": [
    "#This will fail in cases where the seed contains hetero atoms\n",
    "#and the scaffold has been cleaned\n",
    "from rdkit.Chem import ReplaceCore\n",
    "\n",
    "def GetFragmentsFromPair(mol1,mol2,seed=\"\",clean_scaffold=False):\n",
    "    \"\"\"\n",
    "    inputs:\n",
    "        mol1: RDKit mol\n",
    "        mol2: RDKit mol\n",
    "    params:\n",
    "        seed: RDKit smarts mols\n",
    "        clean_scaffold: if true, replace all atoms in scaffold with wildcard\n",
    "        \n",
    "    returns:\n",
    "        RDKit mol object of fragments from mol1 and mol2\n",
    "        frags1:\n",
    "        frags2: \n",
    "    \n",
    "    \"\"\"\n",
    "\n",
    "    if clean_scaffold:\n",
    "        mol1 = CleanScaffold(mol1,seed=seed)\n",
    "        mol2 = CleanScaffold(mol2,seed=seed)\n",
    "    \n",
    "    #Not the best code here, not not sure how to solve mcs issue\n",
    "    if seed != \"\":\n",
    "        mcs = FindMCS([mol1, mol2],\n",
    "                         timeout=1,\n",
    "                         ringMatchesRingOnly=True,\n",
    "                         completeRingsOnly=True,\n",
    "                         seedSmarts=Chem.MolToSmarts(seed),\n",
    "                          #atomCompare=AtomCompare.CompareAnyHeavyAtom,\n",
    "                          #ringCompare=RingCompare.IgnoreRingFusion,\n",
    "                          bondCompare=BondCompare.CompareAny,\n",
    "                        )\n",
    "    else:\n",
    "        mcs = FindMCS([mol1, mol2],\n",
    "                         timeout=1,\n",
    "                         ringMatchesRingOnly=True,\n",
    "                         completeRingsOnly=True,\n",
    "                         #seedSmarts=Chem.MolToSmarts(seed),\n",
    "                          #atomCompare=AtomCompare.CompareAnyHeavyAtom,\n",
    "                          #ringCompare=RingCompare.IgnoreRingFusion,\n",
    "                          bondCompare=BondCompare.CompareAny,\n",
    "                        )\n",
    "    \n",
    "    \n",
    "    mcs = Chem.MolFromSmarts(mcs.smartsString)\n",
    "    \n",
    "    frags1 = ReplaceCore(mol1,mcs,labelByIndex=True)\n",
    "    frags2 = ReplaceCore(mol2,mcs,labelByIndex=True)\n",
    "     \n",
    "    return frags1,frags2"
   ]
  },
  {
   "cell_type": "code",
   "execution_count": 5,
   "id": "bfbe0b6a",
   "metadata": {},
   "outputs": [],
   "source": [
    "def GetFragments(mol, seed=\"\", clean_scaffold=False):\n",
    "    \"\"\"\n",
    "    input:\n",
    "        mol: RDKit mol\n",
    "    params:\n",
    "        Seed: RDKit smarts mol\n",
    "        clean_scaffold: If true, replace atoms in mol backbone with wildcard\n",
    "            If seed is passed, this will be used for cleaning\n",
    "            \n",
    "    returns:\n",
    "        Sidechain fragments of mol, indexed with respect to \n",
    "    \"\"\"\n",
    "    \n",
    "    #Note: issues may arrise if cleaning\n",
    "    #Cleaning only really needed when considering pairs\n",
    "    \n",
    "    if not seed:\n",
    "        seed = GetTrueScaffold(mol)\n",
    "    \n",
    "    if clean_scaffold:\n",
    "        mol = CleanScaffold(mol,seed=seed)\n",
    "        \n",
    "    fragments = ReplaceCore(mol,\n",
    "                            seed,\n",
    "                            labelByIndex=True\n",
    "                           )\n",
    "    return fragments"
   ]
  },
  {
   "cell_type": "markdown",
   "id": "008680fb",
   "metadata": {},
   "source": [
    "# Function: from a pair of rdkit mol fragments, find the fragments which are not shared, ie have changed"
   ]
  },
  {
   "cell_type": "code",
   "execution_count": 6,
   "id": "f3d3309f",
   "metadata": {},
   "outputs": [],
   "source": [
    "def UniqueFragments(frags1,frags2,return_single=False):\n",
    "    \"\"\"\n",
    "    input:\n",
    "        frags1: RDKit mol, core removed leaving only fragments\n",
    "        frags2: RDKit mol, core removed leaving only fragments\n",
    "    param:\n",
    "        return_single: (bool), if true: combines the resulting fragment\n",
    "        set into one array and returns together. Might be good for scoring\n",
    "        \n",
    "    returns:\n",
    "        unique1: list of RDKit mol fragments present on mol1 but not mol2\n",
    "        unique2: list of RDKit mol fragments present on mol2 but nor mol1\n",
    "    \"\"\"\n",
    "    frags1=Chem.GetMolFrags(frags1, asMols=True)\n",
    "    frags2=Chem.GetMolFrags(frags2, asMols=True)\n",
    "    \n",
    "    hash1 = [MolHash(x,HashFunction.CanonicalSmiles) for x in frags1]\n",
    "    hash2 = [MolHash(x,HashFunction.CanonicalSmiles) for x in frags2]\n",
    "    \n",
    "    hash1 = set(hash1)\n",
    "    hash2 = set(hash2)\n",
    "    \n",
    "    unique1 = hash1-hash2\n",
    "    unique2 = hash2-hash1\n",
    "    \n",
    "    if return_single:\n",
    "        return list(unique1.union(unique2))\n",
    "    else:\n",
    "        return list(unique1), list(unique2)"
   ]
  },
  {
   "cell_type": "markdown",
   "id": "8c87a1b4",
   "metadata": {},
   "source": [
    "# Function: get seed"
   ]
  },
  {
   "cell_type": "code",
   "execution_count": 7,
   "id": "d847c2cc",
   "metadata": {},
   "outputs": [],
   "source": [
    "from rdkit.Chem.rdFMCS import FindMCS\n",
    "from rdkit.Chem.rdFMCS import AtomCompare\n",
    "from rdkit.Chem.rdFMCS import RingCompare\n",
    "from rdkit.Chem.rdFMCS import BondCompare\n",
    "\n",
    "def GetSeed(mols, clean_scaffold=False):\n",
    "    \"\"\"\n",
    "    input: array of RDKit mols\n",
    "    param: clean_scaffold (bool), if true: replace all\n",
    "        atoms in murcko scaffold with wildcard (cleaning needed when scaffold\n",
    "        atoms transform as this breaks RBFENN). If true, all subsequent comparsions need\n",
    "        scaffold cleaning. \n",
    "        \n",
    "    returns: RDkit smarts mols of seed for entire dataset\n",
    "    \"\"\"\n",
    "    if clean_scaffold:\n",
    "        new_mols = []\n",
    "        for mol in mols:\n",
    "            try:\n",
    "                mol = CleanScaffold(mol)\n",
    "                new_mols.append(mol)\n",
    "            except:\n",
    "                print(\"Error in cleaning molecule:\")\n",
    "                print(\"This molecule will be ignored in seed finding\")\n",
    "                display(mol)\n",
    "                #raise ValueError(\"Error: mol could not be cleaned. Likely contains hypervalent atoms\")\n",
    "        mols = new_mols\n",
    "    \n",
    "    seed = FindMCS(mols, \n",
    "            atomCompare=AtomCompare.CompareAny,\n",
    "            ringCompare=RingCompare.IgnoreRingFusion,\n",
    "            bondCompare=BondCompare.CompareAny,\n",
    "            #completeRingsOnly=True\n",
    "            #threshold=0.8,#Much slower\n",
    "           )\n",
    "    \n",
    "    return Chem.MolFromSmarts(seed.smartsString)"
   ]
  },
  {
   "cell_type": "markdown",
   "id": "26978f4e",
   "metadata": {},
   "source": [
    "# Testing"
   ]
  },
  {
   "cell_type": "code",
   "execution_count": 8,
   "id": "c7998a31",
   "metadata": {},
   "outputs": [
    {
     "name": "stderr",
     "output_type": "stream",
     "text": [
      "/home/nichrun/miniconda3/envs/data_driven_fep_rel/lib/python3.7/site-packages/IPython/core/interactiveshell.py:3444: DtypeWarning: Columns (3,6,7,9,10,11,12,13,14,15,18,19,27,28,29,30,31,32,33,34,35,36,44,45,46,47,48,49,50,51,52,53,54,55,56,57,58,59,66,67,69,70,71,72,73,74,75,76,84,85,86,87,89,90,91,92,93,94,95,96,104,105,106,107,109,110,111,112,113,114,115,116,124,125,126,127,129,130,131,132,133,134,135,136,144,145,146,147,149,150,151,152,153,154,155,156,164,165,166,167,169,170,171,172,173,174,175,176,184,185,186,187,189,190,191,192,193,194,195,196,204,205,206,207,209,210,211,212,213,214,215,216,224,225,226,227,229,230,231,232,233,234,235,236,244,245,246,247,249,253,254,255,256,257,258,259,275,276) have mixed types.Specify dtype option on import or set low_memory=False.\n",
      "  exec(code_obj, self.user_global_ns, self.user_ns)\n",
      "[12:46:11] WARNING: not removing hydrogen atom without neighbors\n",
      "RDKit WARNING: [12:46:11] WARNING: not removing hydrogen atom without neighbors\n",
      "[12:46:11] WARNING: not removing hydrogen atom without neighbors\n",
      "RDKit WARNING: [12:46:11] WARNING: not removing hydrogen atom without neighbors\n"
     ]
    }
   ],
   "source": [
    "moonshot_file = \"../../covid_submissions_all_info.csv\"\n",
    "df = pd.read_csv(moonshot_file)\n",
    "PandasTools.AddMoleculeColumnToFrame(df,'SMILES','Molecule')"
   ]
  },
  {
   "cell_type": "code",
   "execution_count": 9,
   "id": "b3be0b1a",
   "metadata": {},
   "outputs": [],
   "source": [
    "mol_cluster = []\n",
    "with open(\"largest_generic_scaffold.csv\",\"r\") as readfile:\n",
    "    for line in readfile.readlines():\n",
    "        mol_cluster.append(line.strip())"
   ]
  },
  {
   "cell_type": "code",
   "execution_count": 10,
   "id": "09e9137f",
   "metadata": {},
   "outputs": [],
   "source": [
    "mols = df.loc[df[\"CID\"].isin(mol_cluster)]\n",
    "mols = mols[[\"CID\", \"Molecule\"]]"
   ]
  },
  {
   "cell_type": "code",
   "execution_count": 11,
   "id": "57a7cc16",
   "metadata": {
    "scrolled": true
   },
   "outputs": [
    {
     "data": {
      "text/html": [
       "<div>\n",
       "<style scoped>\n",
       "    .dataframe tbody tr th:only-of-type {\n",
       "        vertical-align: middle;\n",
       "    }\n",
       "\n",
       "    .dataframe tbody tr th {\n",
       "        vertical-align: top;\n",
       "    }\n",
       "\n",
       "    .dataframe thead th {\n",
       "        text-align: right;\n",
       "    }\n",
       "</style>\n",
       "<table border=\"1\" class=\"dataframe\">\n",
       "  <thead>\n",
       "    <tr style=\"text-align: right;\">\n",
       "      <th></th>\n",
       "      <th>CID</th>\n",
       "      <th>Molecule</th>\n",
       "    </tr>\n",
       "  </thead>\n",
       "  <tbody>\n",
       "    <tr>\n",
       "      <th>8460</th>\n",
       "      <td>JAG-UCB-c61058a9-45</td>\n",
       "      <td><img data-content=\"rdkit/molecule\" src=\"data:image/png;base64,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\" alt=\"Mol\"/></td>\n",
       "    </tr>\n",
       "    <tr>\n",
       "      <th>8461</th>\n",
       "      <td>JAG-UCB-c61058a9-46</td>\n",
       "      <td><img data-content=\"rdkit/molecule\" src=\"data:image/png;base64,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\" alt=\"Mol\"/></td>\n",
       "    </tr>\n",
       "    <tr>\n",
       "      <th>9848</th>\n",
       "      <td>MAR-TRE-04c86cea-47</td>\n",
       "      <td><img data-content=\"rdkit/molecule\" src=\"data:image/png;base64,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\" alt=\"Mol\"/></td>\n",
       "    </tr>\n",
       "    <tr>\n",
       "      <th>13172</th>\n",
       "      <td>COM-UCB-1ef4e90e-1</td>\n",
       "      <td><img data-content=\"rdkit/molecule\" src=\"data:image/png;base64,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\" alt=\"Mol\"/></td>\n",
       "    </tr>\n",
       "    <tr>\n",
       "      <th>13208</th>\n",
       "      <td>VLA-UCB-1dbca3b4-14</td>\n",
       "      <td><img data-content=\"rdkit/molecule\" src=\"data:image/png;base64,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\" alt=\"Mol\"/></td>\n",
       "    </tr>\n",
       "  </tbody>\n",
       "</table>\n",
       "</div>"
      ],
      "text/plain": [
       "<IPython.core.display.HTML object>"
      ]
     },
     "execution_count": 11,
     "metadata": {},
     "output_type": "execute_result"
    }
   ],
   "source": [
    "show_df(mols.head())"
   ]
  },
  {
   "cell_type": "code",
   "execution_count": 12,
   "id": "be819791",
   "metadata": {},
   "outputs": [],
   "source": [
    "mols_array = [Chem.MolFromSmiles(Chem.MolToSmiles(x)) for x in list(mols[\"Molecule\"])]\n",
    "pairwise_subset = [(mols_array[i],mols_array[i+100]) for i in range(len(mols_array[:100]))]\n",
    "\n",
    "mols_array_u = [Chem.MolFromSmiles(Chem.MolToSmiles(x)) for x in list(mols[\"Molecule\"])]\n",
    "pairwise_subset_u = [(mols_array_u[i],mols_array_u[i+100]) for i in range(len(mols_array[:100]))]"
   ]
  },
  {
   "cell_type": "markdown",
   "id": "4d6d034a",
   "metadata": {},
   "source": [
    "# Comparing MCS search with and without a seeding"
   ]
  },
  {
   "cell_type": "code",
   "execution_count": 13,
   "id": "96bca29b",
   "metadata": {},
   "outputs": [],
   "source": [
    "import time"
   ]
  },
  {
   "cell_type": "code",
   "execution_count": 16,
   "id": "612527ef",
   "metadata": {},
   "outputs": [],
   "source": [
    "# This accelerated grafting ignores atoms which make up the murcko scaffold\n",
    "# This means backbone transormations are ignored\n",
    "# However this might help with subseqeuent RBFENN grafting is often grafting failed (or was not representitive)\n",
    "# in cases where bacbone changed (as far as i'm aware)"
   ]
  },
  {
   "cell_type": "code",
   "execution_count": 14,
   "id": "ae1bfe83",
   "metadata": {},
   "outputs": [
    {
     "name": "stdout",
     "output_type": "stream",
     "text": [
      "0.117 seconds\n"
     ]
    }
   ],
   "source": [
    "# Accelerated Grafting\n",
    "#import test set\n",
    "mols_subset = [Chem.MolFromSmiles(Chem.MolToSmiles(x)) for x in list(mols[\"Molecule\"])[:25]]\n",
    "\n",
    "t1 = time.time()\n",
    "mcs_array_1 = []\n",
    "\n",
    "#Preclean - Convert all backbone atoms to wild card\n",
    "mols_subset = [CleanScaffold(x) for x in mols_subset]\n",
    "\n",
    "#Get smarts seed from entire cleaned dataset\n",
    "seed = GetSeed(mols_subset,clean_scaffold=False)\n",
    "seed = Chem.MolToSmarts(seed)\n",
    "\n",
    "#Do MCS search\n",
    "for i in range(len(mols_subset)):\n",
    "    for j in range(i):\n",
    "        mol1 = mols_subset[i]\n",
    "        mol2 = mols_subset[j]\n",
    "        \n",
    "        mcs = FindMCS([mol1, mol2],\n",
    "                     timeout=1,\n",
    "                     ringMatchesRingOnly=True,\n",
    "                     completeRingsOnly=True,\n",
    "                     seedSmarts=seed,\n",
    "                      #atomCompare=AtomCompare.CompareAny,\n",
    "                      #ringCompare=RingCompare.IgnoreRingFusion,\n",
    "                      bondCompare=BondCompare.CompareAny,\n",
    "                    )\n",
    "        mcs_array_1.append(mcs)\n",
    "t2 = time.time()\n",
    "print(round(t2-t1, 3), \"seconds\")"
   ]
  },
  {
   "cell_type": "code",
   "execution_count": 15,
   "id": "aec8f6be",
   "metadata": {},
   "outputs": [
    {
     "name": "stdout",
     "output_type": "stream",
     "text": [
      "92.108 seconds\n"
     ]
    }
   ],
   "source": [
    "# Accelerated Grafting\n",
    "mols_subset = [Chem.MolFromSmiles(Chem.MolToSmiles(x)) for x in list(mols[\"Molecule\"])[:25]]\n",
    "\n",
    "t3 = time.time()\n",
    "mcs_array_3 = []\n",
    "\n",
    "#Preclean\n",
    "for i in range(len(mols_subset)):\n",
    "    for j in range(i):\n",
    "        mol1 = mols_subset[i]\n",
    "        mol2 = mols_subset[j]\n",
    "        \n",
    "        mcs = FindMCS([mol1, mol2],\n",
    "                     timeout=1,\n",
    "                     ringMatchesRingOnly=True,\n",
    "                     completeRingsOnly=True,\n",
    "                     #seedSmarts=seed,\n",
    "                      #atomCompare=AtomCompare.CompareAny,\n",
    "                      #ringCompare=RingCompare.IgnoreRingFusion,\n",
    "                      bondCompare=BondCompare.CompareAny,\n",
    "                    )\n",
    "        mcs_array_1.append(mcs)\n",
    "t4 = time.time()\n",
    "print(round(t4-t3, 3), \"seconds\")"
   ]
  }
 ],
 "metadata": {
  "kernelspec": {
   "display_name": "Python 3 (ipykernel)",
   "language": "python",
   "name": "python3"
  },
  "language_info": {
   "codemirror_mode": {
    "name": "ipython",
    "version": 3
   },
   "file_extension": ".py",
   "mimetype": "text/x-python",
   "name": "python",
   "nbconvert_exporter": "python",
   "pygments_lexer": "ipython3",
   "version": "3.7.8"
  }
 },
 "nbformat": 4,
 "nbformat_minor": 5
}
