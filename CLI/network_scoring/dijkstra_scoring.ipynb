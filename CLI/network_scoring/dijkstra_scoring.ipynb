{
 "cells": [
  {
   "cell_type": "code",
   "execution_count": 1,
   "id": "d9f104b9",
   "metadata": {},
   "outputs": [],
   "source": [
    "# Scoring networks\n",
    "# Using RBFENN output connected matrix, with SEM predictions (not scaled) to determine total SEM from \n",
    "# reference node to each node\n",
    "# dijkstra algorithm\n",
    "# https://docs.scipy.org/doc/scipy/reference/generated/scipy.sparse.csgraph.dijkstra.html\n",
    "\n",
    "#Input N*N sparse distance matrix (SEM)"
   ]
  },
  {
   "cell_type": "code",
   "execution_count": 2,
   "id": "6c4da9a9",
   "metadata": {},
   "outputs": [],
   "source": [
    "# This is round about. Better to get standard data format from source.\n",
    "# rbfenn_network_output.txt describes all edges in graph. Index refers to index in (new_)links_file.in\n",
    "# Pair of indices can be traced back to cluster_pair_preds.csv to find SEM of edge (before transformation)\n",
    "# Finally construct sparse matrix "
   ]
  },
  {
   "cell_type": "code",
   "execution_count": 3,
   "id": "b5b36a06",
   "metadata": {},
   "outputs": [],
   "source": [
    "network_path = \"../networks/cls-22-06-28/cls12/\"\n",
    "rbfenn_output = f\"{network_path}rbfenn_network_output_useful.txt\"\n",
    "links_file = f\"{network_path}links_file.in\"\n",
    "cluster_pair_preds = f\"{network_path}cluster_pair_preds.csv\""
   ]
  },
  {
   "cell_type": "code",
   "execution_count": 45,
   "id": "3343308c",
   "metadata": {
    "scrolled": true
   },
   "outputs": [],
   "source": [
    "sem_scores = []\n",
    "row_idx = []\n",
    "col_idx = []\n",
    "\n",
    "with open (rbfenn_output, \"r\") as file:\n",
    "    for line in file.readlines():\n",
    "        line = line.rstrip()\n",
    "        line = line.split(\" \")\n",
    "        sem_scores.append(float(line[-1]))\n",
    "        row_idx.append(int(line[0]))\n",
    "        col_idx.append(int(line[1]))\n",
    "shape = max(max(row_idx), max(col_idx)) + 1"
   ]
  },
  {
   "cell_type": "code",
   "execution_count": 47,
   "id": "e02b8f81",
   "metadata": {},
   "outputs": [],
   "source": [
    "from scipy.sparse import csr_matrix\n",
    "from scipy.sparse.csgraph import dijkstra"
   ]
  },
  {
   "cell_type": "code",
   "execution_count": 48,
   "id": "a609f8b3",
   "metadata": {},
   "outputs": [],
   "source": [
    "graph = csr_matrix((sem_scores, (row_idx, col_idx)), shape=(shape,shape))"
   ]
  },
  {
   "cell_type": "code",
   "execution_count": 49,
   "id": "17447455",
   "metadata": {
    "scrolled": true
   },
   "outputs": [
    {
     "name": "stdout",
     "output_type": "stream",
     "text": [
      "edges from RBFENN\n",
      "  (0, 1)\t0.43548048\n",
      "  (0, 2)\t0.18806618\n",
      "  (0, 3)\t0.53002286\n",
      "  (0, 4)\t0.55040693\n",
      "  (0, 8)\t0.66491336\n",
      "  (0, 9)\t0.12256172\n",
      "  (0, 10)\t0.14195156\n",
      "  (0, 12)\t0.28032482\n",
      "  (1, 2)\t0.35212058\n",
      "  (2, 7)\t0.13033108\n",
      "  (4, 7)\t0.47915018\n",
      "  (5, 7)\t0.1563437\n",
      "  (5, 13)\t0.3719083\n",
      "  (6, 7)\t0.1668523\n",
      "  (6, 8)\t0.66491336\n",
      "  (6, 9)\t0.117046185\n",
      "  (6, 10)\t0.14195156\n",
      "  (7, 13)\t0.32271492\n",
      "  (10, 11)\t0.7433509\n",
      "  (10, 12)\t0.2406229\n",
      "  (11, 12)\t0.51349854\n"
     ]
    }
   ],
   "source": [
    "print(\"edges from RBFENN\")\n",
    "print(graph)"
   ]
  },
  {
   "cell_type": "code",
   "execution_count": 55,
   "id": "1346f98c",
   "metadata": {},
   "outputs": [],
   "source": [
    "dist_matrix, predecessors = dijkstra(csgraph=graph, directed=False, indices=0, return_predecessors=True)"
   ]
  },
  {
   "cell_type": "code",
   "execution_count": 56,
   "id": "cb7671ac",
   "metadata": {},
   "outputs": [
    {
     "name": "stdout",
     "output_type": "stream",
     "text": [
      "Calculated Dijkstra scores (shortest path to node = 0)\n",
      "0 0.0\n",
      "1 0.43548048\n",
      "2 0.18806618\n",
      "3 0.53002286\n",
      "4 0.55040693\n",
      "5 0.47474096\n",
      "6 0.239607905\n",
      "7 0.31839726\n",
      "8 0.66491336\n",
      "9 0.12256172\n",
      "10 0.14195156\n",
      "11 0.79382336\n",
      "12 0.28032482\n",
      "13 0.64111218\n"
     ]
    }
   ],
   "source": [
    "print(\"Calculated Dijkstra scores (shortest path to node = 0)\")\n",
    "for counter, line in enumerate(dist_matrix):\n",
    "    print(counter, line)"
   ]
  },
  {
   "cell_type": "code",
   "execution_count": 57,
   "id": "28db352b",
   "metadata": {},
   "outputs": [
    {
     "name": "stdout",
     "output_type": "stream",
     "text": [
      "predecessors: can be used to determined\n",
      "which nodes were connected \n",
      "in shortest path\n",
      "\n",
      "0 -9999\n",
      "1 0\n",
      "2 0\n",
      "3 0\n",
      "4 0\n",
      "5 7\n",
      "6 9\n",
      "7 2\n",
      "8 0\n",
      "9 0\n",
      "10 0\n",
      "11 12\n",
      "12 0\n",
      "13 7\n"
     ]
    }
   ],
   "source": [
    "print(\"predecessors: can be used to determined\\nwhich nodes were connected \\nin shortest path\\n\")\n",
    "for counter,line in enumerate(predecessors):\n",
    "    print(counter, line)"
   ]
  }
 ],
 "metadata": {
  "kernelspec": {
   "display_name": "Python 3 (ipykernel)",
   "language": "python",
   "name": "python3"
  },
  "language_info": {
   "codemirror_mode": {
    "name": "ipython",
    "version": 3
   },
   "file_extension": ".py",
   "mimetype": "text/x-python",
   "name": "python",
   "nbconvert_exporter": "python",
   "pygments_lexer": "ipython3",
   "version": "3.7.8"
  }
 },
 "nbformat": 4,
 "nbformat_minor": 5
}
